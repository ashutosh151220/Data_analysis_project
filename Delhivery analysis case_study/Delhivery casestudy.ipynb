{
 "cells": [
  {
   "cell_type": "code",
   "execution_count": 387,
   "id": "ae416af3",
   "metadata": {},
   "outputs": [],
   "source": [
    "import pandas as pd\n",
    "import numpy as np\n",
    "import matplotlib.pyplot as plt\n",
    "import seaborn as sns\n",
    "pd.set_option('display.max_rows', 500)\n",
    "pd.set_option('display.max_columns', 500)\n",
    "import warnings\n",
    "warnings.filterwarnings(\"ignore\")"
   ]
  },
  {
   "cell_type": "markdown",
   "id": "e5ecc372",
   "metadata": {},
   "source": [
    "1.Basic data cleaning and exploration"
   ]
  },
  {
   "cell_type": "code",
   "execution_count": 388,
   "id": "179903e6",
   "metadata": {
    "scrolled": true
   },
   "outputs": [
    {
     "data": {
      "text/plain": [
       "Index(['data', 'trip_creation_time', 'route_schedule_uuid', 'route_type',\n",
       "       'trip_uuid', 'source_center', 'source_name', 'destination_center',\n",
       "       'destination_name', 'od_start_time', 'od_end_time',\n",
       "       'start_scan_to_end_scan', 'is_cutoff', 'cutoff_factor',\n",
       "       'cutoff_timestamp', 'actual_distance_to_destination', 'actual_time',\n",
       "       'osrm_time', 'osrm_distance', 'factor', 'segment_actual_time',\n",
       "       'segment_osrm_time', 'segment_osrm_distance', 'segment_factor'],\n",
       "      dtype='object')"
      ]
     },
     "execution_count": 388,
     "metadata": {},
     "output_type": "execute_result"
    }
   ],
   "source": [
    "data =pd.read_csv(\"E:\\Projects\\Automatic_Image_enhacement\\delhivery.csv\")\n",
    "data.columns"
   ]
  },
  {
   "cell_type": "code",
   "execution_count": 389,
   "id": "5ccc2d03",
   "metadata": {},
   "outputs": [
    {
     "data": {
      "text/html": [
       "<div>\n",
       "<style scoped>\n",
       "    .dataframe tbody tr th:only-of-type {\n",
       "        vertical-align: middle;\n",
       "    }\n",
       "\n",
       "    .dataframe tbody tr th {\n",
       "        vertical-align: top;\n",
       "    }\n",
       "\n",
       "    .dataframe thead th {\n",
       "        text-align: right;\n",
       "    }\n",
       "</style>\n",
       "<table border=\"1\" class=\"dataframe\">\n",
       "  <thead>\n",
       "    <tr style=\"text-align: right;\">\n",
       "      <th></th>\n",
       "      <th>data</th>\n",
       "      <th>trip_creation_time</th>\n",
       "      <th>route_schedule_uuid</th>\n",
       "      <th>route_type</th>\n",
       "      <th>trip_uuid</th>\n",
       "      <th>source_center</th>\n",
       "      <th>source_name</th>\n",
       "      <th>destination_center</th>\n",
       "      <th>destination_name</th>\n",
       "      <th>od_start_time</th>\n",
       "      <th>od_end_time</th>\n",
       "      <th>start_scan_to_end_scan</th>\n",
       "      <th>is_cutoff</th>\n",
       "      <th>cutoff_factor</th>\n",
       "      <th>cutoff_timestamp</th>\n",
       "      <th>actual_distance_to_destination</th>\n",
       "      <th>actual_time</th>\n",
       "      <th>osrm_time</th>\n",
       "      <th>osrm_distance</th>\n",
       "      <th>factor</th>\n",
       "      <th>segment_actual_time</th>\n",
       "      <th>segment_osrm_time</th>\n",
       "      <th>segment_osrm_distance</th>\n",
       "      <th>segment_factor</th>\n",
       "    </tr>\n",
       "  </thead>\n",
       "  <tbody>\n",
       "    <tr>\n",
       "      <th>0</th>\n",
       "      <td>training</td>\n",
       "      <td>2018-09-20 02:35:36.476840</td>\n",
       "      <td>thanos::sroute:eb7bfc78-b351-4c0e-a951-fa3d5c3...</td>\n",
       "      <td>Carting</td>\n",
       "      <td>trip-153741093647649320</td>\n",
       "      <td>IND388121AAA</td>\n",
       "      <td>Anand_VUNagar_DC (Gujarat)</td>\n",
       "      <td>IND388620AAB</td>\n",
       "      <td>Khambhat_MotvdDPP_D (Gujarat)</td>\n",
       "      <td>2018-09-20 03:21:32.418600</td>\n",
       "      <td>2018-09-20 04:47:45.236797</td>\n",
       "      <td>86.0</td>\n",
       "      <td>True</td>\n",
       "      <td>9.0</td>\n",
       "      <td>2018-09-20 04:27:55</td>\n",
       "      <td>10.435660</td>\n",
       "      <td>14.0</td>\n",
       "      <td>11.0</td>\n",
       "      <td>11.9653</td>\n",
       "      <td>1.272727</td>\n",
       "      <td>14.0</td>\n",
       "      <td>11.0</td>\n",
       "      <td>11.9653</td>\n",
       "      <td>1.272727</td>\n",
       "    </tr>\n",
       "    <tr>\n",
       "      <th>1</th>\n",
       "      <td>training</td>\n",
       "      <td>2018-09-20 02:35:36.476840</td>\n",
       "      <td>thanos::sroute:eb7bfc78-b351-4c0e-a951-fa3d5c3...</td>\n",
       "      <td>Carting</td>\n",
       "      <td>trip-153741093647649320</td>\n",
       "      <td>IND388121AAA</td>\n",
       "      <td>Anand_VUNagar_DC (Gujarat)</td>\n",
       "      <td>IND388620AAB</td>\n",
       "      <td>Khambhat_MotvdDPP_D (Gujarat)</td>\n",
       "      <td>2018-09-20 03:21:32.418600</td>\n",
       "      <td>2018-09-20 04:47:45.236797</td>\n",
       "      <td>86.0</td>\n",
       "      <td>True</td>\n",
       "      <td>18.0</td>\n",
       "      <td>2018-09-20 04:17:55</td>\n",
       "      <td>18.936842</td>\n",
       "      <td>24.0</td>\n",
       "      <td>20.0</td>\n",
       "      <td>21.7243</td>\n",
       "      <td>1.200000</td>\n",
       "      <td>10.0</td>\n",
       "      <td>9.0</td>\n",
       "      <td>9.7590</td>\n",
       "      <td>1.111111</td>\n",
       "    </tr>\n",
       "    <tr>\n",
       "      <th>2</th>\n",
       "      <td>training</td>\n",
       "      <td>2018-09-20 02:35:36.476840</td>\n",
       "      <td>thanos::sroute:eb7bfc78-b351-4c0e-a951-fa3d5c3...</td>\n",
       "      <td>Carting</td>\n",
       "      <td>trip-153741093647649320</td>\n",
       "      <td>IND388121AAA</td>\n",
       "      <td>Anand_VUNagar_DC (Gujarat)</td>\n",
       "      <td>IND388620AAB</td>\n",
       "      <td>Khambhat_MotvdDPP_D (Gujarat)</td>\n",
       "      <td>2018-09-20 03:21:32.418600</td>\n",
       "      <td>2018-09-20 04:47:45.236797</td>\n",
       "      <td>86.0</td>\n",
       "      <td>True</td>\n",
       "      <td>27.0</td>\n",
       "      <td>2018-09-20 04:01:19.505586</td>\n",
       "      <td>27.637279</td>\n",
       "      <td>40.0</td>\n",
       "      <td>28.0</td>\n",
       "      <td>32.5395</td>\n",
       "      <td>1.428571</td>\n",
       "      <td>16.0</td>\n",
       "      <td>7.0</td>\n",
       "      <td>10.8152</td>\n",
       "      <td>2.285714</td>\n",
       "    </tr>\n",
       "    <tr>\n",
       "      <th>3</th>\n",
       "      <td>training</td>\n",
       "      <td>2018-09-20 02:35:36.476840</td>\n",
       "      <td>thanos::sroute:eb7bfc78-b351-4c0e-a951-fa3d5c3...</td>\n",
       "      <td>Carting</td>\n",
       "      <td>trip-153741093647649320</td>\n",
       "      <td>IND388121AAA</td>\n",
       "      <td>Anand_VUNagar_DC (Gujarat)</td>\n",
       "      <td>IND388620AAB</td>\n",
       "      <td>Khambhat_MotvdDPP_D (Gujarat)</td>\n",
       "      <td>2018-09-20 03:21:32.418600</td>\n",
       "      <td>2018-09-20 04:47:45.236797</td>\n",
       "      <td>86.0</td>\n",
       "      <td>True</td>\n",
       "      <td>36.0</td>\n",
       "      <td>2018-09-20 03:39:57</td>\n",
       "      <td>36.118028</td>\n",
       "      <td>62.0</td>\n",
       "      <td>40.0</td>\n",
       "      <td>45.5620</td>\n",
       "      <td>1.550000</td>\n",
       "      <td>21.0</td>\n",
       "      <td>12.0</td>\n",
       "      <td>13.0224</td>\n",
       "      <td>1.750000</td>\n",
       "    </tr>\n",
       "    <tr>\n",
       "      <th>4</th>\n",
       "      <td>training</td>\n",
       "      <td>2018-09-20 02:35:36.476840</td>\n",
       "      <td>thanos::sroute:eb7bfc78-b351-4c0e-a951-fa3d5c3...</td>\n",
       "      <td>Carting</td>\n",
       "      <td>trip-153741093647649320</td>\n",
       "      <td>IND388121AAA</td>\n",
       "      <td>Anand_VUNagar_DC (Gujarat)</td>\n",
       "      <td>IND388620AAB</td>\n",
       "      <td>Khambhat_MotvdDPP_D (Gujarat)</td>\n",
       "      <td>2018-09-20 03:21:32.418600</td>\n",
       "      <td>2018-09-20 04:47:45.236797</td>\n",
       "      <td>86.0</td>\n",
       "      <td>False</td>\n",
       "      <td>39.0</td>\n",
       "      <td>2018-09-20 03:33:55</td>\n",
       "      <td>39.386040</td>\n",
       "      <td>68.0</td>\n",
       "      <td>44.0</td>\n",
       "      <td>54.2181</td>\n",
       "      <td>1.545455</td>\n",
       "      <td>6.0</td>\n",
       "      <td>5.0</td>\n",
       "      <td>3.9153</td>\n",
       "      <td>1.200000</td>\n",
       "    </tr>\n",
       "    <tr>\n",
       "      <th>5</th>\n",
       "      <td>training</td>\n",
       "      <td>2018-09-20 02:35:36.476840</td>\n",
       "      <td>thanos::sroute:eb7bfc78-b351-4c0e-a951-fa3d5c3...</td>\n",
       "      <td>Carting</td>\n",
       "      <td>trip-153741093647649320</td>\n",
       "      <td>IND388620AAB</td>\n",
       "      <td>Khambhat_MotvdDPP_D (Gujarat)</td>\n",
       "      <td>IND388320AAA</td>\n",
       "      <td>Anand_Vaghasi_IP (Gujarat)</td>\n",
       "      <td>2018-09-20 04:47:45.236797</td>\n",
       "      <td>2018-09-20 06:36:55.627764</td>\n",
       "      <td>109.0</td>\n",
       "      <td>True</td>\n",
       "      <td>9.0</td>\n",
       "      <td>2018-09-20 06:15:58</td>\n",
       "      <td>10.403038</td>\n",
       "      <td>15.0</td>\n",
       "      <td>11.0</td>\n",
       "      <td>12.1171</td>\n",
       "      <td>1.363636</td>\n",
       "      <td>15.0</td>\n",
       "      <td>11.0</td>\n",
       "      <td>12.1171</td>\n",
       "      <td>1.363636</td>\n",
       "    </tr>\n",
       "    <tr>\n",
       "      <th>6</th>\n",
       "      <td>training</td>\n",
       "      <td>2018-09-20 02:35:36.476840</td>\n",
       "      <td>thanos::sroute:eb7bfc78-b351-4c0e-a951-fa3d5c3...</td>\n",
       "      <td>Carting</td>\n",
       "      <td>trip-153741093647649320</td>\n",
       "      <td>IND388620AAB</td>\n",
       "      <td>Khambhat_MotvdDPP_D (Gujarat)</td>\n",
       "      <td>IND388320AAA</td>\n",
       "      <td>Anand_Vaghasi_IP (Gujarat)</td>\n",
       "      <td>2018-09-20 04:47:45.236797</td>\n",
       "      <td>2018-09-20 06:36:55.627764</td>\n",
       "      <td>109.0</td>\n",
       "      <td>True</td>\n",
       "      <td>18.0</td>\n",
       "      <td>2018-09-20 05:47:29</td>\n",
       "      <td>18.045481</td>\n",
       "      <td>44.0</td>\n",
       "      <td>17.0</td>\n",
       "      <td>21.2890</td>\n",
       "      <td>2.588235</td>\n",
       "      <td>28.0</td>\n",
       "      <td>6.0</td>\n",
       "      <td>9.1719</td>\n",
       "      <td>4.666667</td>\n",
       "    </tr>\n",
       "    <tr>\n",
       "      <th>7</th>\n",
       "      <td>training</td>\n",
       "      <td>2018-09-20 02:35:36.476840</td>\n",
       "      <td>thanos::sroute:eb7bfc78-b351-4c0e-a951-fa3d5c3...</td>\n",
       "      <td>Carting</td>\n",
       "      <td>trip-153741093647649320</td>\n",
       "      <td>IND388620AAB</td>\n",
       "      <td>Khambhat_MotvdDPP_D (Gujarat)</td>\n",
       "      <td>IND388320AAA</td>\n",
       "      <td>Anand_Vaghasi_IP (Gujarat)</td>\n",
       "      <td>2018-09-20 04:47:45.236797</td>\n",
       "      <td>2018-09-20 06:36:55.627764</td>\n",
       "      <td>109.0</td>\n",
       "      <td>True</td>\n",
       "      <td>27.0</td>\n",
       "      <td>2018-09-20 05:25:58</td>\n",
       "      <td>28.061896</td>\n",
       "      <td>65.0</td>\n",
       "      <td>29.0</td>\n",
       "      <td>35.8252</td>\n",
       "      <td>2.241379</td>\n",
       "      <td>21.0</td>\n",
       "      <td>11.0</td>\n",
       "      <td>14.5362</td>\n",
       "      <td>1.909091</td>\n",
       "    </tr>\n",
       "    <tr>\n",
       "      <th>8</th>\n",
       "      <td>training</td>\n",
       "      <td>2018-09-20 02:35:36.476840</td>\n",
       "      <td>thanos::sroute:eb7bfc78-b351-4c0e-a951-fa3d5c3...</td>\n",
       "      <td>Carting</td>\n",
       "      <td>trip-153741093647649320</td>\n",
       "      <td>IND388620AAB</td>\n",
       "      <td>Khambhat_MotvdDPP_D (Gujarat)</td>\n",
       "      <td>IND388320AAA</td>\n",
       "      <td>Anand_Vaghasi_IP (Gujarat)</td>\n",
       "      <td>2018-09-20 04:47:45.236797</td>\n",
       "      <td>2018-09-20 06:36:55.627764</td>\n",
       "      <td>109.0</td>\n",
       "      <td>True</td>\n",
       "      <td>36.0</td>\n",
       "      <td>2018-09-20 05:15:56</td>\n",
       "      <td>38.939167</td>\n",
       "      <td>76.0</td>\n",
       "      <td>39.0</td>\n",
       "      <td>47.1900</td>\n",
       "      <td>1.948718</td>\n",
       "      <td>10.0</td>\n",
       "      <td>10.0</td>\n",
       "      <td>11.3648</td>\n",
       "      <td>1.000000</td>\n",
       "    </tr>\n",
       "    <tr>\n",
       "      <th>9</th>\n",
       "      <td>training</td>\n",
       "      <td>2018-09-20 02:35:36.476840</td>\n",
       "      <td>thanos::sroute:eb7bfc78-b351-4c0e-a951-fa3d5c3...</td>\n",
       "      <td>Carting</td>\n",
       "      <td>trip-153741093647649320</td>\n",
       "      <td>IND388620AAB</td>\n",
       "      <td>Khambhat_MotvdDPP_D (Gujarat)</td>\n",
       "      <td>IND388320AAA</td>\n",
       "      <td>Anand_Vaghasi_IP (Gujarat)</td>\n",
       "      <td>2018-09-20 04:47:45.236797</td>\n",
       "      <td>2018-09-20 06:36:55.627764</td>\n",
       "      <td>109.0</td>\n",
       "      <td>False</td>\n",
       "      <td>43.0</td>\n",
       "      <td>2018-09-20 04:49:20</td>\n",
       "      <td>43.595802</td>\n",
       "      <td>102.0</td>\n",
       "      <td>45.0</td>\n",
       "      <td>53.2334</td>\n",
       "      <td>2.266667</td>\n",
       "      <td>26.0</td>\n",
       "      <td>6.0</td>\n",
       "      <td>6.0434</td>\n",
       "      <td>4.333333</td>\n",
       "    </tr>\n",
       "  </tbody>\n",
       "</table>\n",
       "</div>"
      ],
      "text/plain": [
       "       data          trip_creation_time  \\\n",
       "0  training  2018-09-20 02:35:36.476840   \n",
       "1  training  2018-09-20 02:35:36.476840   \n",
       "2  training  2018-09-20 02:35:36.476840   \n",
       "3  training  2018-09-20 02:35:36.476840   \n",
       "4  training  2018-09-20 02:35:36.476840   \n",
       "5  training  2018-09-20 02:35:36.476840   \n",
       "6  training  2018-09-20 02:35:36.476840   \n",
       "7  training  2018-09-20 02:35:36.476840   \n",
       "8  training  2018-09-20 02:35:36.476840   \n",
       "9  training  2018-09-20 02:35:36.476840   \n",
       "\n",
       "                                 route_schedule_uuid route_type  \\\n",
       "0  thanos::sroute:eb7bfc78-b351-4c0e-a951-fa3d5c3...    Carting   \n",
       "1  thanos::sroute:eb7bfc78-b351-4c0e-a951-fa3d5c3...    Carting   \n",
       "2  thanos::sroute:eb7bfc78-b351-4c0e-a951-fa3d5c3...    Carting   \n",
       "3  thanos::sroute:eb7bfc78-b351-4c0e-a951-fa3d5c3...    Carting   \n",
       "4  thanos::sroute:eb7bfc78-b351-4c0e-a951-fa3d5c3...    Carting   \n",
       "5  thanos::sroute:eb7bfc78-b351-4c0e-a951-fa3d5c3...    Carting   \n",
       "6  thanos::sroute:eb7bfc78-b351-4c0e-a951-fa3d5c3...    Carting   \n",
       "7  thanos::sroute:eb7bfc78-b351-4c0e-a951-fa3d5c3...    Carting   \n",
       "8  thanos::sroute:eb7bfc78-b351-4c0e-a951-fa3d5c3...    Carting   \n",
       "9  thanos::sroute:eb7bfc78-b351-4c0e-a951-fa3d5c3...    Carting   \n",
       "\n",
       "                 trip_uuid source_center                    source_name  \\\n",
       "0  trip-153741093647649320  IND388121AAA     Anand_VUNagar_DC (Gujarat)   \n",
       "1  trip-153741093647649320  IND388121AAA     Anand_VUNagar_DC (Gujarat)   \n",
       "2  trip-153741093647649320  IND388121AAA     Anand_VUNagar_DC (Gujarat)   \n",
       "3  trip-153741093647649320  IND388121AAA     Anand_VUNagar_DC (Gujarat)   \n",
       "4  trip-153741093647649320  IND388121AAA     Anand_VUNagar_DC (Gujarat)   \n",
       "5  trip-153741093647649320  IND388620AAB  Khambhat_MotvdDPP_D (Gujarat)   \n",
       "6  trip-153741093647649320  IND388620AAB  Khambhat_MotvdDPP_D (Gujarat)   \n",
       "7  trip-153741093647649320  IND388620AAB  Khambhat_MotvdDPP_D (Gujarat)   \n",
       "8  trip-153741093647649320  IND388620AAB  Khambhat_MotvdDPP_D (Gujarat)   \n",
       "9  trip-153741093647649320  IND388620AAB  Khambhat_MotvdDPP_D (Gujarat)   \n",
       "\n",
       "  destination_center               destination_name  \\\n",
       "0       IND388620AAB  Khambhat_MotvdDPP_D (Gujarat)   \n",
       "1       IND388620AAB  Khambhat_MotvdDPP_D (Gujarat)   \n",
       "2       IND388620AAB  Khambhat_MotvdDPP_D (Gujarat)   \n",
       "3       IND388620AAB  Khambhat_MotvdDPP_D (Gujarat)   \n",
       "4       IND388620AAB  Khambhat_MotvdDPP_D (Gujarat)   \n",
       "5       IND388320AAA     Anand_Vaghasi_IP (Gujarat)   \n",
       "6       IND388320AAA     Anand_Vaghasi_IP (Gujarat)   \n",
       "7       IND388320AAA     Anand_Vaghasi_IP (Gujarat)   \n",
       "8       IND388320AAA     Anand_Vaghasi_IP (Gujarat)   \n",
       "9       IND388320AAA     Anand_Vaghasi_IP (Gujarat)   \n",
       "\n",
       "                od_start_time                 od_end_time  \\\n",
       "0  2018-09-20 03:21:32.418600  2018-09-20 04:47:45.236797   \n",
       "1  2018-09-20 03:21:32.418600  2018-09-20 04:47:45.236797   \n",
       "2  2018-09-20 03:21:32.418600  2018-09-20 04:47:45.236797   \n",
       "3  2018-09-20 03:21:32.418600  2018-09-20 04:47:45.236797   \n",
       "4  2018-09-20 03:21:32.418600  2018-09-20 04:47:45.236797   \n",
       "5  2018-09-20 04:47:45.236797  2018-09-20 06:36:55.627764   \n",
       "6  2018-09-20 04:47:45.236797  2018-09-20 06:36:55.627764   \n",
       "7  2018-09-20 04:47:45.236797  2018-09-20 06:36:55.627764   \n",
       "8  2018-09-20 04:47:45.236797  2018-09-20 06:36:55.627764   \n",
       "9  2018-09-20 04:47:45.236797  2018-09-20 06:36:55.627764   \n",
       "\n",
       "   start_scan_to_end_scan is_cutoff  cutoff_factor  \\\n",
       "0                    86.0      True            9.0   \n",
       "1                    86.0      True           18.0   \n",
       "2                    86.0      True           27.0   \n",
       "3                    86.0      True           36.0   \n",
       "4                    86.0     False           39.0   \n",
       "5                   109.0      True            9.0   \n",
       "6                   109.0      True           18.0   \n",
       "7                   109.0      True           27.0   \n",
       "8                   109.0      True           36.0   \n",
       "9                   109.0     False           43.0   \n",
       "\n",
       "             cutoff_timestamp  actual_distance_to_destination  actual_time  \\\n",
       "0         2018-09-20 04:27:55                       10.435660         14.0   \n",
       "1         2018-09-20 04:17:55                       18.936842         24.0   \n",
       "2  2018-09-20 04:01:19.505586                       27.637279         40.0   \n",
       "3         2018-09-20 03:39:57                       36.118028         62.0   \n",
       "4         2018-09-20 03:33:55                       39.386040         68.0   \n",
       "5         2018-09-20 06:15:58                       10.403038         15.0   \n",
       "6         2018-09-20 05:47:29                       18.045481         44.0   \n",
       "7         2018-09-20 05:25:58                       28.061896         65.0   \n",
       "8         2018-09-20 05:15:56                       38.939167         76.0   \n",
       "9         2018-09-20 04:49:20                       43.595802        102.0   \n",
       "\n",
       "   osrm_time  osrm_distance    factor  segment_actual_time  segment_osrm_time  \\\n",
       "0       11.0        11.9653  1.272727                 14.0               11.0   \n",
       "1       20.0        21.7243  1.200000                 10.0                9.0   \n",
       "2       28.0        32.5395  1.428571                 16.0                7.0   \n",
       "3       40.0        45.5620  1.550000                 21.0               12.0   \n",
       "4       44.0        54.2181  1.545455                  6.0                5.0   \n",
       "5       11.0        12.1171  1.363636                 15.0               11.0   \n",
       "6       17.0        21.2890  2.588235                 28.0                6.0   \n",
       "7       29.0        35.8252  2.241379                 21.0               11.0   \n",
       "8       39.0        47.1900  1.948718                 10.0               10.0   \n",
       "9       45.0        53.2334  2.266667                 26.0                6.0   \n",
       "\n",
       "   segment_osrm_distance  segment_factor  \n",
       "0                11.9653        1.272727  \n",
       "1                 9.7590        1.111111  \n",
       "2                10.8152        2.285714  \n",
       "3                13.0224        1.750000  \n",
       "4                 3.9153        1.200000  \n",
       "5                12.1171        1.363636  \n",
       "6                 9.1719        4.666667  \n",
       "7                14.5362        1.909091  \n",
       "8                11.3648        1.000000  \n",
       "9                 6.0434        4.333333  "
      ]
     },
     "execution_count": 389,
     "metadata": {},
     "output_type": "execute_result"
    }
   ],
   "source": [
    "data.head(10)"
   ]
  },
  {
   "cell_type": "code",
   "execution_count": 390,
   "id": "46077c74",
   "metadata": {},
   "outputs": [
    {
     "data": {
      "text/plain": [
       "(143475, 24)"
      ]
     },
     "execution_count": 390,
     "metadata": {},
     "output_type": "execute_result"
    }
   ],
   "source": [
    "data.shape"
   ]
  },
  {
   "cell_type": "code",
   "execution_count": 391,
   "id": "eaf5fbf2",
   "metadata": {},
   "outputs": [
    {
     "name": "stdout",
     "output_type": "stream",
     "text": [
      "<class 'pandas.core.frame.DataFrame'>\n",
      "RangeIndex: 143475 entries, 0 to 143474\n",
      "Data columns (total 24 columns):\n",
      " #   Column                          Non-Null Count   Dtype  \n",
      "---  ------                          --------------   -----  \n",
      " 0   data                            143475 non-null  object \n",
      " 1   trip_creation_time              143475 non-null  object \n",
      " 2   route_schedule_uuid             143475 non-null  object \n",
      " 3   route_type                      143475 non-null  object \n",
      " 4   trip_uuid                       143475 non-null  object \n",
      " 5   source_center                   143475 non-null  object \n",
      " 6   source_name                     143188 non-null  object \n",
      " 7   destination_center              143475 non-null  object \n",
      " 8   destination_name                143222 non-null  object \n",
      " 9   od_start_time                   143474 non-null  object \n",
      " 10  od_end_time                     143474 non-null  object \n",
      " 11  start_scan_to_end_scan          143474 non-null  float64\n",
      " 12  is_cutoff                       143474 non-null  object \n",
      " 13  cutoff_factor                   143474 non-null  float64\n",
      " 14  cutoff_timestamp                143474 non-null  object \n",
      " 15  actual_distance_to_destination  143474 non-null  float64\n",
      " 16  actual_time                     143474 non-null  float64\n",
      " 17  osrm_time                       143474 non-null  float64\n",
      " 18  osrm_distance                   143474 non-null  float64\n",
      " 19  factor                          143474 non-null  float64\n",
      " 20  segment_actual_time             143474 non-null  float64\n",
      " 21  segment_osrm_time               143474 non-null  float64\n",
      " 22  segment_osrm_distance           143474 non-null  float64\n",
      " 23  segment_factor                  143474 non-null  float64\n",
      "dtypes: float64(11), object(13)\n",
      "memory usage: 26.3+ MB\n"
     ]
    }
   ],
   "source": [
    "data.info()"
   ]
  },
  {
   "cell_type": "code",
   "execution_count": 392,
   "id": "220c72b1",
   "metadata": {},
   "outputs": [
    {
     "name": "stdout",
     "output_type": "stream",
     "text": [
      "Source_center 1508\n",
      "Source_name 1499\n"
     ]
    }
   ],
   "source": [
    "print(\"Source_center\",len(data[\"source_center\"].unique()))\n",
    "print(\"Source_name\",len(data[\"source_name\"].unique()))"
   ]
  },
  {
   "cell_type": "code",
   "execution_count": 393,
   "id": "fdcd92fe",
   "metadata": {},
   "outputs": [
    {
     "name": "stdout",
     "output_type": "stream",
     "text": [
      "destination_center 1479\n",
      "destination_name 1468\n"
     ]
    }
   ],
   "source": [
    "print(\"destination_center\",len(data[\"destination_center\"].unique()))\n",
    "print(\"destination_name\",len(data[\"destination_name\"].unique()))"
   ]
  },
  {
   "cell_type": "code",
   "execution_count": 394,
   "id": "1477b5c1",
   "metadata": {},
   "outputs": [
    {
     "name": "stdout",
     "output_type": "stream",
     "text": [
      "10\n"
     ]
    }
   ],
   "source": [
    "src_center_na=data[data[\"source_name\"].isna()][\"source_center\"].unique()\n",
    "print(len(src_center_na))"
   ]
  },
  {
   "cell_type": "code",
   "execution_count": 395,
   "id": "8f9333f7",
   "metadata": {},
   "outputs": [
    {
     "name": "stdout",
     "output_type": "stream",
     "text": [
      "1498\n"
     ]
    }
   ],
   "source": [
    "src_center_notna=data[data[\"source_name\"].notnull()][\"source_center\"].unique()\n",
    "print(len(src_center_notna))"
   ]
  },
  {
   "cell_type": "code",
   "execution_count": 396,
   "id": "8807d140",
   "metadata": {},
   "outputs": [
    {
     "name": "stdout",
     "output_type": "stream",
     "text": [
      "set()\n"
     ]
    }
   ],
   "source": [
    "print(set(src_center_na).intersection(set(src_center_notna)))"
   ]
  },
  {
   "cell_type": "code",
   "execution_count": 397,
   "id": "d5aa489c",
   "metadata": {},
   "outputs": [
    {
     "name": "stdout",
     "output_type": "stream",
     "text": [
      "10\n"
     ]
    }
   ],
   "source": [
    "dst_center_na=data[data[\"destination_name\"].isna()][\"destination_center\"].unique()\n",
    "print(len(src_center_na))"
   ]
  },
  {
   "cell_type": "code",
   "execution_count": 398,
   "id": "4671fcc8",
   "metadata": {},
   "outputs": [
    {
     "name": "stdout",
     "output_type": "stream",
     "text": [
      "1466\n"
     ]
    }
   ],
   "source": [
    "dst_center_notna=data[data[\"destination_name\"].notnull()][\"destination_center\"].unique()\n",
    "print(len(dst_center_notna))"
   ]
  },
  {
   "cell_type": "code",
   "execution_count": 399,
   "id": "b0dd04b8",
   "metadata": {},
   "outputs": [
    {
     "name": "stdout",
     "output_type": "stream",
     "text": [
      "set()\n"
     ]
    }
   ],
   "source": [
    "print(set(dst_center_na).intersection(set(dst_center_notna)))"
   ]
  },
  {
   "cell_type": "code",
   "execution_count": 400,
   "id": "03b2c435",
   "metadata": {},
   "outputs": [],
   "source": [
    "data=data.dropna()"
   ]
  },
  {
   "cell_type": "code",
   "execution_count": 401,
   "id": "a71a6f57",
   "metadata": {},
   "outputs": [
    {
     "data": {
      "text/plain": [
       "(142937, 24)"
      ]
     },
     "execution_count": 401,
     "metadata": {},
     "output_type": "execute_result"
    }
   ],
   "source": [
    "data.shape"
   ]
  },
  {
   "cell_type": "code",
   "execution_count": 402,
   "id": "a2e9ea16",
   "metadata": {},
   "outputs": [
    {
     "data": {
      "text/plain": [
       "training    103654\n",
       "test         39283\n",
       "Name: data, dtype: int64"
      ]
     },
     "execution_count": 402,
     "metadata": {},
     "output_type": "execute_result"
    }
   ],
   "source": [
    "data[\"data\"].value_counts()"
   ]
  },
  {
   "cell_type": "code",
   "execution_count": 403,
   "id": "5c4df433",
   "metadata": {},
   "outputs": [],
   "source": [
    "data=data[data[\"data\"]==\"training\"]"
   ]
  },
  {
   "cell_type": "code",
   "execution_count": 404,
   "id": "ac7b2c3b",
   "metadata": {},
   "outputs": [
    {
     "data": {
      "text/plain": [
       "(103654, 24)"
      ]
     },
     "execution_count": 404,
     "metadata": {},
     "output_type": "execute_result"
    }
   ],
   "source": [
    "data.shape"
   ]
  },
  {
   "cell_type": "code",
   "execution_count": 405,
   "id": "c509655f",
   "metadata": {},
   "outputs": [
    {
     "name": "stdout",
     "output_type": "stream",
     "text": [
      "Haryana                   19521\n",
      "Maharashtra               15361\n",
      "Karnataka                 14399\n",
      "Tamil Nadu                 5701\n",
      "Gujarat                    5084\n",
      "Uttar Pradesh              4852\n",
      "Telangana                  4663\n",
      "West Bengal                4141\n",
      "Andhra Pradesh             4084\n",
      "Punjab                     3617\n",
      "Rajasthan                  3611\n",
      "Delhi                      3209\n",
      "Bihar                      2932\n",
      "Madhya Pradesh             2494\n",
      "Assam                      2170\n",
      "Kerala                     1738\n",
      "Jharkhand                  1709\n",
      "Orissa                     1514\n",
      "Uttarakhand                 838\n",
      "Goa                         494\n",
      "Himachal Pradesh            434\n",
      "Chandigarh                  349\n",
      "Arunachal Pradesh           198\n",
      "Jammu & Kashmir             165\n",
      "Chhattisgarh                164\n",
      "Meghalaya                    86\n",
      "Pondicherry                  47\n",
      "Nagaland                     28\n",
      "Mizoram                      26\n",
      "Dadra and Nagar Haveli       20\n",
      "Tripura                       5\n",
      "Name: source_state, dtype: int64\n"
     ]
    }
   ],
   "source": [
    "data[\"source_state\"]=data[\"source_name\"].apply(lambda x: x.split(\"(\")[1].strip(\")\"))\n",
    "print(data[\"source_state\"].value_counts())"
   ]
  },
  {
   "cell_type": "code",
   "execution_count": 406,
   "id": "45a71596",
   "metadata": {},
   "outputs": [],
   "source": [
    "data[\"source_state_center\"]=data[\"source_name\"].apply(lambda x: x.split(\"(\")[0])\n",
    "arr=data[\"source_state_center\"].value_counts().index"
   ]
  },
  {
   "cell_type": "code",
   "execution_count": 407,
   "id": "d7972f54",
   "metadata": {},
   "outputs": [
    {
     "name": "stdout",
     "output_type": "stream",
     "text": [
      "Index(['Gurgaon_Bilaspur_HB ', 'Bangalore_Nelmngla_H ', 'Bhiwandi_Mankoli_HB ',\n",
      "       'Pune_Tathawde_H ', 'Hyderabad_Shamshbd_H ', 'Chandigarh_Mehmdpur_H ',\n",
      "       'Kolkata_Dankuni_HB ', 'Surat_HUB ', 'Bengaluru_Bomsndra_HB ',\n",
      "       'Delhi_Airport_H ',\n",
      "       ...\n",
      "       'Bengaluru_Sarjapur_D ', 'Chennai_AshokNagar_DC ', 'Bhubaneswar_Patia ',\n",
      "       'Pachora_PcrrdDPP_D ', 'Dhoraji_JmnvadRd_DC ', 'Bhadra_GMndiDPP_D ',\n",
      "       'Mumbai_Nerul_D ', 'Jetpur_DC ', 'Addanki_Oilmilrd_D ',\n",
      "       'Kayamkulam_Bhrnikvu_D '],\n",
      "      dtype='object', length=1416)\n"
     ]
    }
   ],
   "source": [
    "print(arr)"
   ]
  },
  {
   "cell_type": "code",
   "execution_count": 408,
   "id": "2d82d6c1",
   "metadata": {
    "scrolled": true
   },
   "outputs": [
    {
     "name": "stdout",
     "output_type": "stream",
     "text": [
      "Haryana                   15573\n",
      "Karnataka                 15290\n",
      "Maharashtra               12808\n",
      "Tamil Nadu                 5974\n",
      "Telangana                  5973\n",
      "West Bengal                5936\n",
      "Uttar Pradesh              5233\n",
      "Gujarat                    4800\n",
      "Andhra Pradesh             4455\n",
      "Rajasthan                  4226\n",
      "Delhi                      4171\n",
      "Punjab                     3730\n",
      "Bihar                      2896\n",
      "Madhya Pradesh             2785\n",
      "Orissa                     2565\n",
      "Kerala                     1595\n",
      "Jharkhand                  1527\n",
      "Assam                      1509\n",
      "Uttarakhand                 590\n",
      "Goa                         563\n",
      "Himachal Pradesh            444\n",
      "Chandigarh                  297\n",
      "Chhattisgarh                164\n",
      "Jammu & Kashmir             153\n",
      "Pondicherry                 152\n",
      "Arunachal Pradesh           139\n",
      "Meghalaya                    37\n",
      "Mizoram                      31\n",
      "Dadra and Nagar Haveli       22\n",
      "Tripura                       9\n",
      "Nagaland                      7\n",
      "Name: destination_state, dtype: int64\n"
     ]
    }
   ],
   "source": [
    "data[\"destination_state\"]=data[\"destination_name\"].apply(lambda x: x.split(\"(\")[1].strip(\")\"))\n",
    "print(data[\"destination_state\"].value_counts())"
   ]
  },
  {
   "cell_type": "code",
   "execution_count": 409,
   "id": "533180ad",
   "metadata": {},
   "outputs": [
    {
     "name": "stdout",
     "output_type": "stream",
     "text": [
      "Gurgaon_Bilaspur_HB       11373\n",
      "Bangalore_Nelmngla_H       7984\n",
      "Bhiwandi_Mankoli_HB        3923\n",
      "Hyderabad_Shamshbd_H       3856\n",
      "Kolkata_Dankuni_HB         3440\n",
      "                          ...  \n",
      "Kothanalloor_Majoor_D         1\n",
      "Jalalpur_Mhimapur_D           1\n",
      "Vijayawada                    1\n",
      "Dhoraji_JmnvadRd_DC           1\n",
      "Chennai_Mylapore              1\n",
      "Name: destination_state_center, Length: 1395, dtype: int64\n"
     ]
    }
   ],
   "source": [
    "data[\"destination_state_center\"]=data[\"destination_name\"].apply(lambda x: x.split(\"(\")[0])\n",
    "print(data[\"destination_state_center\"].value_counts())"
   ]
  },
  {
   "cell_type": "code",
   "execution_count": 410,
   "id": "6c7e295f",
   "metadata": {},
   "outputs": [
    {
     "data": {
      "text/plain": [
       "(1377,)"
      ]
     },
     "execution_count": 410,
     "metadata": {},
     "output_type": "execute_result"
    }
   ],
   "source": [
    "data[\"route_schedule_uuid\"].unique().shape"
   ]
  },
  {
   "cell_type": "code",
   "execution_count": 411,
   "id": "67c93416",
   "metadata": {},
   "outputs": [
    {
     "data": {
      "text/plain": [
       "(103654, 28)"
      ]
     },
     "execution_count": 411,
     "metadata": {},
     "output_type": "execute_result"
    }
   ],
   "source": [
    "data.shape"
   ]
  },
  {
   "cell_type": "code",
   "execution_count": 412,
   "id": "87f24c82",
   "metadata": {},
   "outputs": [
    {
     "data": {
      "text/plain": [
       "Index(['data', 'trip_creation_time', 'route_schedule_uuid', 'route_type',\n",
       "       'trip_uuid', 'source_center', 'source_name', 'destination_center',\n",
       "       'destination_name', 'od_start_time', 'od_end_time',\n",
       "       'start_scan_to_end_scan', 'is_cutoff', 'cutoff_factor',\n",
       "       'cutoff_timestamp', 'actual_distance_to_destination', 'actual_time',\n",
       "       'osrm_time', 'osrm_distance', 'factor', 'segment_actual_time',\n",
       "       'segment_osrm_time', 'segment_osrm_distance', 'segment_factor',\n",
       "       'source_state', 'source_state_center', 'destination_state',\n",
       "       'destination_state_center'],\n",
       "      dtype='object')"
      ]
     },
     "execution_count": 412,
     "metadata": {},
     "output_type": "execute_result"
    }
   ],
   "source": [
    "data.columns"
   ]
  },
  {
   "cell_type": "code",
   "execution_count": 413,
   "id": "6b0d7e05",
   "metadata": {},
   "outputs": [
    {
     "data": {
      "text/plain": [
       "Index(['data', 'trip_creation_time', 'route_schedule_uuid', 'route_type',\n",
       "       'trip_uuid', 'source_center', 'source_name', 'destination_center',\n",
       "       'destination_name', 'od_start_time', 'od_end_time',\n",
       "       'start_scan_to_end_scan', 'actual_distance_to_destination',\n",
       "       'actual_time', 'osrm_time', 'osrm_distance', 'segment_actual_time',\n",
       "       'segment_osrm_time', 'segment_osrm_distance', 'source_state',\n",
       "       'source_state_center', 'destination_state', 'destination_state_center'],\n",
       "      dtype='object')"
      ]
     },
     "execution_count": 413,
     "metadata": {},
     "output_type": "execute_result"
    }
   ],
   "source": [
    "to_drop=['is_cutoff', 'cutoff_factor',\n",
    "       'cutoff_timestamp',\"factor\",\"segment_factor\"]\n",
    "data=data.drop(to_drop,axis=1)\n",
    "data.columns"
   ]
  },
  {
   "cell_type": "code",
   "execution_count": 414,
   "id": "d475eecb",
   "metadata": {},
   "outputs": [],
   "source": [
    "data['trip_creation_time']=pd.to_datetime(data['trip_creation_time'])\n"
   ]
  },
  {
   "cell_type": "code",
   "execution_count": 415,
   "id": "e7a4cdaf",
   "metadata": {},
   "outputs": [
    {
     "data": {
      "text/html": [
       "<div>\n",
       "<style scoped>\n",
       "    .dataframe tbody tr th:only-of-type {\n",
       "        vertical-align: middle;\n",
       "    }\n",
       "\n",
       "    .dataframe tbody tr th {\n",
       "        vertical-align: top;\n",
       "    }\n",
       "\n",
       "    .dataframe thead th {\n",
       "        text-align: right;\n",
       "    }\n",
       "</style>\n",
       "<table border=\"1\" class=\"dataframe\">\n",
       "  <thead>\n",
       "    <tr style=\"text-align: right;\">\n",
       "      <th></th>\n",
       "      <th>data</th>\n",
       "      <th>trip_creation_time</th>\n",
       "      <th>route_schedule_uuid</th>\n",
       "      <th>route_type</th>\n",
       "      <th>trip_uuid</th>\n",
       "      <th>source_center</th>\n",
       "      <th>source_name</th>\n",
       "      <th>destination_center</th>\n",
       "      <th>destination_name</th>\n",
       "      <th>od_start_time</th>\n",
       "      <th>od_end_time</th>\n",
       "      <th>start_scan_to_end_scan</th>\n",
       "      <th>actual_distance_to_destination</th>\n",
       "      <th>actual_time</th>\n",
       "      <th>osrm_time</th>\n",
       "      <th>osrm_distance</th>\n",
       "      <th>segment_actual_time</th>\n",
       "      <th>segment_osrm_time</th>\n",
       "      <th>segment_osrm_distance</th>\n",
       "      <th>source_state</th>\n",
       "      <th>source_state_center</th>\n",
       "      <th>destination_state</th>\n",
       "      <th>destination_state_center</th>\n",
       "    </tr>\n",
       "  </thead>\n",
       "  <tbody>\n",
       "    <tr>\n",
       "      <th>0</th>\n",
       "      <td>training</td>\n",
       "      <td>2018-09-20 02:35:36.476840</td>\n",
       "      <td>thanos::sroute:eb7bfc78-b351-4c0e-a951-fa3d5c3...</td>\n",
       "      <td>Carting</td>\n",
       "      <td>trip-153741093647649320</td>\n",
       "      <td>IND388121AAA</td>\n",
       "      <td>Anand_VUNagar_DC (Gujarat)</td>\n",
       "      <td>IND388620AAB</td>\n",
       "      <td>Khambhat_MotvdDPP_D (Gujarat)</td>\n",
       "      <td>2018-09-20 03:21:32.418600</td>\n",
       "      <td>2018-09-20 04:47:45.236797</td>\n",
       "      <td>86.0</td>\n",
       "      <td>10.435660</td>\n",
       "      <td>14.0</td>\n",
       "      <td>11.0</td>\n",
       "      <td>11.9653</td>\n",
       "      <td>14.0</td>\n",
       "      <td>11.0</td>\n",
       "      <td>11.9653</td>\n",
       "      <td>Gujarat</td>\n",
       "      <td>Anand_VUNagar_DC</td>\n",
       "      <td>Gujarat</td>\n",
       "      <td>Khambhat_MotvdDPP_D</td>\n",
       "    </tr>\n",
       "    <tr>\n",
       "      <th>1</th>\n",
       "      <td>training</td>\n",
       "      <td>2018-09-20 02:35:36.476840</td>\n",
       "      <td>thanos::sroute:eb7bfc78-b351-4c0e-a951-fa3d5c3...</td>\n",
       "      <td>Carting</td>\n",
       "      <td>trip-153741093647649320</td>\n",
       "      <td>IND388121AAA</td>\n",
       "      <td>Anand_VUNagar_DC (Gujarat)</td>\n",
       "      <td>IND388620AAB</td>\n",
       "      <td>Khambhat_MotvdDPP_D (Gujarat)</td>\n",
       "      <td>2018-09-20 03:21:32.418600</td>\n",
       "      <td>2018-09-20 04:47:45.236797</td>\n",
       "      <td>86.0</td>\n",
       "      <td>18.936842</td>\n",
       "      <td>24.0</td>\n",
       "      <td>20.0</td>\n",
       "      <td>21.7243</td>\n",
       "      <td>10.0</td>\n",
       "      <td>9.0</td>\n",
       "      <td>9.7590</td>\n",
       "      <td>Gujarat</td>\n",
       "      <td>Anand_VUNagar_DC</td>\n",
       "      <td>Gujarat</td>\n",
       "      <td>Khambhat_MotvdDPP_D</td>\n",
       "    </tr>\n",
       "    <tr>\n",
       "      <th>2</th>\n",
       "      <td>training</td>\n",
       "      <td>2018-09-20 02:35:36.476840</td>\n",
       "      <td>thanos::sroute:eb7bfc78-b351-4c0e-a951-fa3d5c3...</td>\n",
       "      <td>Carting</td>\n",
       "      <td>trip-153741093647649320</td>\n",
       "      <td>IND388121AAA</td>\n",
       "      <td>Anand_VUNagar_DC (Gujarat)</td>\n",
       "      <td>IND388620AAB</td>\n",
       "      <td>Khambhat_MotvdDPP_D (Gujarat)</td>\n",
       "      <td>2018-09-20 03:21:32.418600</td>\n",
       "      <td>2018-09-20 04:47:45.236797</td>\n",
       "      <td>86.0</td>\n",
       "      <td>27.637279</td>\n",
       "      <td>40.0</td>\n",
       "      <td>28.0</td>\n",
       "      <td>32.5395</td>\n",
       "      <td>16.0</td>\n",
       "      <td>7.0</td>\n",
       "      <td>10.8152</td>\n",
       "      <td>Gujarat</td>\n",
       "      <td>Anand_VUNagar_DC</td>\n",
       "      <td>Gujarat</td>\n",
       "      <td>Khambhat_MotvdDPP_D</td>\n",
       "    </tr>\n",
       "    <tr>\n",
       "      <th>3</th>\n",
       "      <td>training</td>\n",
       "      <td>2018-09-20 02:35:36.476840</td>\n",
       "      <td>thanos::sroute:eb7bfc78-b351-4c0e-a951-fa3d5c3...</td>\n",
       "      <td>Carting</td>\n",
       "      <td>trip-153741093647649320</td>\n",
       "      <td>IND388121AAA</td>\n",
       "      <td>Anand_VUNagar_DC (Gujarat)</td>\n",
       "      <td>IND388620AAB</td>\n",
       "      <td>Khambhat_MotvdDPP_D (Gujarat)</td>\n",
       "      <td>2018-09-20 03:21:32.418600</td>\n",
       "      <td>2018-09-20 04:47:45.236797</td>\n",
       "      <td>86.0</td>\n",
       "      <td>36.118028</td>\n",
       "      <td>62.0</td>\n",
       "      <td>40.0</td>\n",
       "      <td>45.5620</td>\n",
       "      <td>21.0</td>\n",
       "      <td>12.0</td>\n",
       "      <td>13.0224</td>\n",
       "      <td>Gujarat</td>\n",
       "      <td>Anand_VUNagar_DC</td>\n",
       "      <td>Gujarat</td>\n",
       "      <td>Khambhat_MotvdDPP_D</td>\n",
       "    </tr>\n",
       "    <tr>\n",
       "      <th>4</th>\n",
       "      <td>training</td>\n",
       "      <td>2018-09-20 02:35:36.476840</td>\n",
       "      <td>thanos::sroute:eb7bfc78-b351-4c0e-a951-fa3d5c3...</td>\n",
       "      <td>Carting</td>\n",
       "      <td>trip-153741093647649320</td>\n",
       "      <td>IND388121AAA</td>\n",
       "      <td>Anand_VUNagar_DC (Gujarat)</td>\n",
       "      <td>IND388620AAB</td>\n",
       "      <td>Khambhat_MotvdDPP_D (Gujarat)</td>\n",
       "      <td>2018-09-20 03:21:32.418600</td>\n",
       "      <td>2018-09-20 04:47:45.236797</td>\n",
       "      <td>86.0</td>\n",
       "      <td>39.386040</td>\n",
       "      <td>68.0</td>\n",
       "      <td>44.0</td>\n",
       "      <td>54.2181</td>\n",
       "      <td>6.0</td>\n",
       "      <td>5.0</td>\n",
       "      <td>3.9153</td>\n",
       "      <td>Gujarat</td>\n",
       "      <td>Anand_VUNagar_DC</td>\n",
       "      <td>Gujarat</td>\n",
       "      <td>Khambhat_MotvdDPP_D</td>\n",
       "    </tr>\n",
       "  </tbody>\n",
       "</table>\n",
       "</div>"
      ],
      "text/plain": [
       "       data         trip_creation_time  \\\n",
       "0  training 2018-09-20 02:35:36.476840   \n",
       "1  training 2018-09-20 02:35:36.476840   \n",
       "2  training 2018-09-20 02:35:36.476840   \n",
       "3  training 2018-09-20 02:35:36.476840   \n",
       "4  training 2018-09-20 02:35:36.476840   \n",
       "\n",
       "                                 route_schedule_uuid route_type  \\\n",
       "0  thanos::sroute:eb7bfc78-b351-4c0e-a951-fa3d5c3...    Carting   \n",
       "1  thanos::sroute:eb7bfc78-b351-4c0e-a951-fa3d5c3...    Carting   \n",
       "2  thanos::sroute:eb7bfc78-b351-4c0e-a951-fa3d5c3...    Carting   \n",
       "3  thanos::sroute:eb7bfc78-b351-4c0e-a951-fa3d5c3...    Carting   \n",
       "4  thanos::sroute:eb7bfc78-b351-4c0e-a951-fa3d5c3...    Carting   \n",
       "\n",
       "                 trip_uuid source_center                 source_name  \\\n",
       "0  trip-153741093647649320  IND388121AAA  Anand_VUNagar_DC (Gujarat)   \n",
       "1  trip-153741093647649320  IND388121AAA  Anand_VUNagar_DC (Gujarat)   \n",
       "2  trip-153741093647649320  IND388121AAA  Anand_VUNagar_DC (Gujarat)   \n",
       "3  trip-153741093647649320  IND388121AAA  Anand_VUNagar_DC (Gujarat)   \n",
       "4  trip-153741093647649320  IND388121AAA  Anand_VUNagar_DC (Gujarat)   \n",
       "\n",
       "  destination_center               destination_name  \\\n",
       "0       IND388620AAB  Khambhat_MotvdDPP_D (Gujarat)   \n",
       "1       IND388620AAB  Khambhat_MotvdDPP_D (Gujarat)   \n",
       "2       IND388620AAB  Khambhat_MotvdDPP_D (Gujarat)   \n",
       "3       IND388620AAB  Khambhat_MotvdDPP_D (Gujarat)   \n",
       "4       IND388620AAB  Khambhat_MotvdDPP_D (Gujarat)   \n",
       "\n",
       "                od_start_time                 od_end_time  \\\n",
       "0  2018-09-20 03:21:32.418600  2018-09-20 04:47:45.236797   \n",
       "1  2018-09-20 03:21:32.418600  2018-09-20 04:47:45.236797   \n",
       "2  2018-09-20 03:21:32.418600  2018-09-20 04:47:45.236797   \n",
       "3  2018-09-20 03:21:32.418600  2018-09-20 04:47:45.236797   \n",
       "4  2018-09-20 03:21:32.418600  2018-09-20 04:47:45.236797   \n",
       "\n",
       "   start_scan_to_end_scan  actual_distance_to_destination  actual_time  \\\n",
       "0                    86.0                       10.435660         14.0   \n",
       "1                    86.0                       18.936842         24.0   \n",
       "2                    86.0                       27.637279         40.0   \n",
       "3                    86.0                       36.118028         62.0   \n",
       "4                    86.0                       39.386040         68.0   \n",
       "\n",
       "   osrm_time  osrm_distance  segment_actual_time  segment_osrm_time  \\\n",
       "0       11.0        11.9653                 14.0               11.0   \n",
       "1       20.0        21.7243                 10.0                9.0   \n",
       "2       28.0        32.5395                 16.0                7.0   \n",
       "3       40.0        45.5620                 21.0               12.0   \n",
       "4       44.0        54.2181                  6.0                5.0   \n",
       "\n",
       "   segment_osrm_distance source_state source_state_center destination_state  \\\n",
       "0                11.9653      Gujarat   Anand_VUNagar_DC            Gujarat   \n",
       "1                 9.7590      Gujarat   Anand_VUNagar_DC            Gujarat   \n",
       "2                10.8152      Gujarat   Anand_VUNagar_DC            Gujarat   \n",
       "3                13.0224      Gujarat   Anand_VUNagar_DC            Gujarat   \n",
       "4                 3.9153      Gujarat   Anand_VUNagar_DC            Gujarat   \n",
       "\n",
       "  destination_state_center  \n",
       "0     Khambhat_MotvdDPP_D   \n",
       "1     Khambhat_MotvdDPP_D   \n",
       "2     Khambhat_MotvdDPP_D   \n",
       "3     Khambhat_MotvdDPP_D   \n",
       "4     Khambhat_MotvdDPP_D   "
      ]
     },
     "execution_count": 415,
     "metadata": {},
     "output_type": "execute_result"
    }
   ],
   "source": [
    "data.head()"
   ]
  },
  {
   "cell_type": "markdown",
   "id": "006a7aeb",
   "metadata": {},
   "source": [
    "2.Build some features to prepare the data for actual analysis. Extract features from the below fields<br>\n",
    "2.1Destination Name: Split and extract features out of destination. City-place-code (State)"
   ]
  },
  {
   "cell_type": "code",
   "execution_count": 416,
   "id": "f3dc1bce",
   "metadata": {},
   "outputs": [],
   "source": [
    "data[\"dst_city\"]=data[\"destination_name\"].apply(lambda x: x.split(\"_\")[0])"
   ]
  },
  {
   "cell_type": "code",
   "execution_count": 417,
   "id": "00d48af6",
   "metadata": {},
   "outputs": [],
   "source": [
    "def gt_place(x):\n",
    "    try:\n",
    "        place=x.split(\"_\")[1]\n",
    "    except:\n",
    "        place=np.nan\n",
    "    return place"
   ]
  },
  {
   "cell_type": "code",
   "execution_count": 418,
   "id": "391b43a3",
   "metadata": {},
   "outputs": [],
   "source": [
    "def gt_code(x):\n",
    "    try:\n",
    "        code=x.split(\"_\")[2].split(\"(\")[0]\n",
    "    except:\n",
    "        code=np.nan\n",
    "    return code"
   ]
  },
  {
   "cell_type": "code",
   "execution_count": 419,
   "id": "342c40bc",
   "metadata": {},
   "outputs": [],
   "source": [
    "data[\"dst_place\"]=data[\"destination_name\"].apply(lambda x: gt_place(x))\n",
    "#print(data[\"destination_name\"].apply(lambda x: gt_place(x)))"
   ]
  },
  {
   "cell_type": "code",
   "execution_count": 420,
   "id": "fec07295",
   "metadata": {},
   "outputs": [],
   "source": [
    "data[\"dst_code\"]=data[\"destination_name\"].apply(lambda x: gt_code(x))"
   ]
  },
  {
   "cell_type": "markdown",
   "id": "ab4291f9",
   "metadata": {},
   "source": [
    "2.2Source Name: Split and extract features out of destination. City-place-code (State)"
   ]
  },
  {
   "cell_type": "code",
   "execution_count": 421,
   "id": "51f82ab8",
   "metadata": {},
   "outputs": [],
   "source": [
    "data[\"src_city\"]=data[\"source_name\"].apply(lambda x: x.split(\"_\")[0])"
   ]
  },
  {
   "cell_type": "code",
   "execution_count": 422,
   "id": "80d68fb1",
   "metadata": {},
   "outputs": [],
   "source": [
    "data[\"src_place\"]=data[\"source_name\"].apply(lambda x: gt_place(x))"
   ]
  },
  {
   "cell_type": "code",
   "execution_count": 423,
   "id": "1b203e03",
   "metadata": {},
   "outputs": [],
   "source": [
    "data[\"src_code\"]=data[\"source_name\"].apply(lambda x: gt_code(x))"
   ]
  },
  {
   "cell_type": "markdown",
   "id": "32bc7f2d",
   "metadata": {},
   "source": [
    "Trip_creation_time: Extract features like month, year and day etc"
   ]
  },
  {
   "cell_type": "code",
   "execution_count": 424,
   "id": "7348da51",
   "metadata": {},
   "outputs": [],
   "source": [
    "data[\"trip_day\"]=data['trip_creation_time'].dt.day\n"
   ]
  },
  {
   "cell_type": "code",
   "execution_count": 425,
   "id": "6582e276",
   "metadata": {},
   "outputs": [],
   "source": [
    "data[\"trip_month\"]=data['trip_creation_time'].dt.month\n"
   ]
  },
  {
   "cell_type": "code",
   "execution_count": 426,
   "id": "bb7a0179",
   "metadata": {},
   "outputs": [],
   "source": [
    "data[\"trip_year\"]=data['trip_creation_time'].dt.year\n"
   ]
  },
  {
   "cell_type": "markdown",
   "id": "10f21e80",
   "metadata": {},
   "source": [
    "3.In-depth analysis and feature engineering<br>\n",
    "\n",
    "3.1Calculate the time taken between od_start_time and od_end_time and keep it as a feature.<br>\n",
    "    Drop the original columns, if required"
   ]
  },
  {
   "cell_type": "code",
   "execution_count": 427,
   "id": "9a6b0eb3",
   "metadata": {},
   "outputs": [],
   "source": [
    "#od_start_time\n",
    "#od_end_time\n",
    "data[\"od_start_time\"]=pd.to_datetime(data[\"od_start_time\"])\n",
    "data[\"od_end_time\"]=pd.to_datetime(data[\"od_end_time\"])\n"
   ]
  },
  {
   "cell_type": "code",
   "execution_count": 428,
   "id": "be71875c",
   "metadata": {},
   "outputs": [],
   "source": [
    "data[\"od_trip_time_hr\"]=data[\"od_end_time\"].sub(data[\"od_start_time\"]).view('int64') / (60*10**9)"
   ]
  },
  {
   "cell_type": "markdown",
   "id": "9441fd6a",
   "metadata": {},
   "source": [
    "3.2Compare the difference between Point a. and start_scan_to_end_scan. Do hypothesis testing/ Visual analysis to check."
   ]
  },
  {
   "cell_type": "code",
   "execution_count": 429,
   "id": "c13a6713",
   "metadata": {},
   "outputs": [],
   "source": [
    "data_temp=pd.DataFrame()\n",
    "data_temp[\"calc_trip_min\"]=data[\"od_trip_time_hr\"]"
   ]
  },
  {
   "cell_type": "code",
   "execution_count": 430,
   "id": "70375327",
   "metadata": {},
   "outputs": [],
   "source": [
    "data_temp[\"start_scan_to_end_scan\"]=data[\"start_scan_to_end_scan\"]"
   ]
  },
  {
   "cell_type": "code",
   "execution_count": 431,
   "id": "9f0fd977",
   "metadata": {},
   "outputs": [
    {
     "data": {
      "text/html": [
       "<div>\n",
       "<style scoped>\n",
       "    .dataframe tbody tr th:only-of-type {\n",
       "        vertical-align: middle;\n",
       "    }\n",
       "\n",
       "    .dataframe tbody tr th {\n",
       "        vertical-align: top;\n",
       "    }\n",
       "\n",
       "    .dataframe thead th {\n",
       "        text-align: right;\n",
       "    }\n",
       "</style>\n",
       "<table border=\"1\" class=\"dataframe\">\n",
       "  <thead>\n",
       "    <tr style=\"text-align: right;\">\n",
       "      <th></th>\n",
       "      <th>calc_trip_min</th>\n",
       "      <th>start_scan_to_end_scan</th>\n",
       "    </tr>\n",
       "  </thead>\n",
       "  <tbody>\n",
       "    <tr>\n",
       "      <th>count</th>\n",
       "      <td>103654.000000</td>\n",
       "      <td>103654.000000</td>\n",
       "    </tr>\n",
       "    <tr>\n",
       "      <th>mean</th>\n",
       "      <td>949.041644</td>\n",
       "      <td>948.546597</td>\n",
       "    </tr>\n",
       "    <tr>\n",
       "      <th>std</th>\n",
       "      <td>1020.048441</td>\n",
       "      <td>1020.050201</td>\n",
       "    </tr>\n",
       "    <tr>\n",
       "      <th>min</th>\n",
       "      <td>20.702813</td>\n",
       "      <td>20.000000</td>\n",
       "    </tr>\n",
       "    <tr>\n",
       "      <th>25%</th>\n",
       "      <td>165.370841</td>\n",
       "      <td>165.000000</td>\n",
       "    </tr>\n",
       "    <tr>\n",
       "      <th>50%</th>\n",
       "      <td>455.662376</td>\n",
       "      <td>455.000000</td>\n",
       "    </tr>\n",
       "    <tr>\n",
       "      <th>75%</th>\n",
       "      <td>1583.013756</td>\n",
       "      <td>1583.000000</td>\n",
       "    </tr>\n",
       "    <tr>\n",
       "      <th>max</th>\n",
       "      <td>4535.715225</td>\n",
       "      <td>4535.000000</td>\n",
       "    </tr>\n",
       "  </tbody>\n",
       "</table>\n",
       "</div>"
      ],
      "text/plain": [
       "       calc_trip_min  start_scan_to_end_scan\n",
       "count  103654.000000           103654.000000\n",
       "mean      949.041644              948.546597\n",
       "std      1020.048441             1020.050201\n",
       "min        20.702813               20.000000\n",
       "25%       165.370841              165.000000\n",
       "50%       455.662376              455.000000\n",
       "75%      1583.013756             1583.000000\n",
       "max      4535.715225             4535.000000"
      ]
     },
     "execution_count": 431,
     "metadata": {},
     "output_type": "execute_result"
    }
   ],
   "source": [
    "data_temp.describe()"
   ]
  },
  {
   "cell_type": "code",
   "execution_count": 432,
   "id": "170599b7",
   "metadata": {},
   "outputs": [
    {
     "data": {
      "text/plain": [
       "<seaborn.axisgrid.FacetGrid at 0x28ceff80640>"
      ]
     },
     "execution_count": 432,
     "metadata": {},
     "output_type": "execute_result"
    },
    {
     "data": {
      "image/png": "[encoded data removed]",
      "text/plain": [
       "<Figure size 714.875x500 with 1 Axes>"
      ]
     },
     "metadata": {},
     "output_type": "display_data"
    }
   ],
   "source": [
    "sns.displot(data_temp)"
   ]
  },
  {
   "cell_type": "markdown",
   "id": "f880c768",
   "metadata": {},
   "source": [
    "Ans 3.2<br>\n",
    "our calculated time and start_scan_to_end_scan have same distribution\n",
    "           <br>3.3)Do hypothesis testing/ visual analysis between actual_time aggregated value and OSRM time aggregated value (aggregated values are the values you’ll get after merging the rows on the basis of trip_uuid)"
   ]
  },
  {
   "cell_type": "code",
   "execution_count": 433,
   "id": "5a123571",
   "metadata": {},
   "outputs": [],
   "source": [
    "agg_dict={'actual_time' : 'mean',\n",
    "    'osrm_time' : 'mean',\n",
    "          'segment_actual_time':'mean'\n",
    "         }"
   ]
  },
  {
   "cell_type": "code",
   "execution_count": 434,
   "id": "b386b9eb",
   "metadata": {},
   "outputs": [
    {
     "data": {
      "text/html": [
       "<div>\n",
       "<style scoped>\n",
       "    .dataframe tbody tr th:only-of-type {\n",
       "        vertical-align: middle;\n",
       "    }\n",
       "\n",
       "    .dataframe tbody tr th {\n",
       "        vertical-align: top;\n",
       "    }\n",
       "\n",
       "    .dataframe thead th {\n",
       "        text-align: right;\n",
       "    }\n",
       "</style>\n",
       "<table border=\"1\" class=\"dataframe\">\n",
       "  <thead>\n",
       "    <tr style=\"text-align: right;\">\n",
       "      <th></th>\n",
       "      <th>trip_uuid</th>\n",
       "      <th>actual_time</th>\n",
       "      <th>osrm_time</th>\n",
       "      <th>segment_actual_time</th>\n",
       "    </tr>\n",
       "  </thead>\n",
       "  <tbody>\n",
       "    <tr>\n",
       "      <th>0</th>\n",
       "      <td>trip-153671041653548748</td>\n",
       "      <td>402.102564</td>\n",
       "      <td>199.666667</td>\n",
       "      <td>39.692308</td>\n",
       "    </tr>\n",
       "    <tr>\n",
       "      <th>1</th>\n",
       "      <td>trip-153671042288605164</td>\n",
       "      <td>44.333333</td>\n",
       "      <td>23.333333</td>\n",
       "      <td>15.666667</td>\n",
       "    </tr>\n",
       "    <tr>\n",
       "      <th>2</th>\n",
       "      <td>trip-153671043369099517</td>\n",
       "      <td>1260.955056</td>\n",
       "      <td>738.966292</td>\n",
       "      <td>37.168539</td>\n",
       "    </tr>\n",
       "    <tr>\n",
       "      <th>3</th>\n",
       "      <td>trip-153671046011330457</td>\n",
       "      <td>41.000000</td>\n",
       "      <td>12.000000</td>\n",
       "      <td>29.500000</td>\n",
       "    </tr>\n",
       "    <tr>\n",
       "      <th>4</th>\n",
       "      <td>trip-153671052974046625</td>\n",
       "      <td>79.428571</td>\n",
       "      <td>29.571429</td>\n",
       "      <td>48.571429</td>\n",
       "    </tr>\n",
       "  </tbody>\n",
       "</table>\n",
       "</div>"
      ],
      "text/plain": [
       "                 trip_uuid  actual_time   osrm_time  segment_actual_time\n",
       "0  trip-153671041653548748   402.102564  199.666667            39.692308\n",
       "1  trip-153671042288605164    44.333333   23.333333            15.666667\n",
       "2  trip-153671043369099517  1260.955056  738.966292            37.168539\n",
       "3  trip-153671046011330457    41.000000   12.000000            29.500000\n",
       "4  trip-153671052974046625    79.428571   29.571429            48.571429"
      ]
     },
     "execution_count": 434,
     "metadata": {},
     "output_type": "execute_result"
    }
   ],
   "source": [
    "data_temp=data.groupby(\"trip_uuid\").agg(agg_dict).reset_index()\n",
    "data_temp.head()"
   ]
  },
  {
   "cell_type": "code",
   "execution_count": 435,
   "id": "6e778879",
   "metadata": {},
   "outputs": [
    {
     "data": {
      "text/plain": [
       "<seaborn.axisgrid.FacetGrid at 0x28cf4e1d460>"
      ]
     },
     "execution_count": 435,
     "metadata": {},
     "output_type": "execute_result"
    },
    {
     "data": {
      "image/png": "[encoded data removed]",
      "text/plain": [
       "<Figure size 500x500 with 1 Axes>"
      ]
     },
     "metadata": {},
     "output_type": "display_data"
    }
   ],
   "source": [
    "sns.displot(data_temp[\"actual_time\"])"
   ]
  },
  {
   "cell_type": "code",
   "execution_count": 436,
   "id": "63119e30",
   "metadata": {},
   "outputs": [
    {
     "data": {
      "text/plain": [
       "<Axes: xlabel='osrm_time', ylabel='Density'>"
      ]
     },
     "execution_count": 436,
     "metadata": {},
     "output_type": "execute_result"
    },
    {
     "data": {
      "image/png": "[encoded data removed]",
      "text/plain": [
       "<Figure size 640x480 with 1 Axes>"
      ]
     },
     "metadata": {},
     "output_type": "display_data"
    }
   ],
   "source": [
    "sns.distplot(data_temp[\"osrm_time\"])"
   ]
  },
  {
   "cell_type": "code",
   "execution_count": 437,
   "id": "17981586",
   "metadata": {},
   "outputs": [],
   "source": [
    "def null(p,alpha=0.05):\n",
    "    if p<alpha:\n",
    "        print(\"Reject\")\n",
    "    else:\n",
    "        print(\"Failed to Reject\")"
   ]
  },
  {
   "cell_type": "code",
   "execution_count": 438,
   "id": "14ed7431",
   "metadata": {},
   "outputs": [
    {
     "data": {
      "text/plain": [
       "KstestResult(statistic=0.4258749881437921, pvalue=0.0, statistic_location=41.96296296296296, statistic_sign=-1)"
      ]
     },
     "execution_count": 438,
     "metadata": {},
     "output_type": "execute_result"
    }
   ],
   "source": [
    "# since distribution is looking different we will perform hypothesis using kstest\n",
    "from scipy import stats\n",
    "stats.kstest(data_temp[\"actual_time\"],data_temp[\"osrm_time\"])"
   ]
  },
  {
   "cell_type": "code",
   "execution_count": 439,
   "id": "419bceed",
   "metadata": {},
   "outputs": [
    {
     "name": "stdout",
     "output_type": "stream",
     "text": [
      "Failed to Reject\n"
     ]
    }
   ],
   "source": [
    "null(9.08)"
   ]
  },
  {
   "cell_type": "markdown",
   "id": "7567db80",
   "metadata": {},
   "source": [
    "failed to reject NULL hypothesiss that means actual time and osrm time<br>\n",
    "osrm time is not that accurate\n",
    "<br>\n",
    "3.4)Do hypothesis testing/ visual analysis between actual_time aggregated value and segment actual time aggregated value (aggregated values are the values you’ll get after merging the rows on the basis of trip_uuid)"
   ]
  },
  {
   "cell_type": "code",
   "execution_count": 440,
   "id": "14d126e4",
   "metadata": {},
   "outputs": [],
   "source": [
    "agg_dict={'actual_time' : 'sum',\n",
    "          'segment_actual_time':'sum'\n",
    "         }"
   ]
  },
  {
   "cell_type": "code",
   "execution_count": 441,
   "id": "6c929d69",
   "metadata": {},
   "outputs": [
    {
     "data": {
      "text/html": [
       "<div>\n",
       "<style scoped>\n",
       "    .dataframe tbody tr th:only-of-type {\n",
       "        vertical-align: middle;\n",
       "    }\n",
       "\n",
       "    .dataframe tbody tr th {\n",
       "        vertical-align: top;\n",
       "    }\n",
       "\n",
       "    .dataframe thead th {\n",
       "        text-align: right;\n",
       "    }\n",
       "</style>\n",
       "<table border=\"1\" class=\"dataframe\">\n",
       "  <thead>\n",
       "    <tr style=\"text-align: right;\">\n",
       "      <th></th>\n",
       "      <th>trip_uuid</th>\n",
       "      <th>actual_time</th>\n",
       "      <th>segment_actual_time</th>\n",
       "    </tr>\n",
       "  </thead>\n",
       "  <tbody>\n",
       "    <tr>\n",
       "      <th>0</th>\n",
       "      <td>trip-153671041653548748</td>\n",
       "      <td>15682.0</td>\n",
       "      <td>1548.0</td>\n",
       "    </tr>\n",
       "    <tr>\n",
       "      <th>1</th>\n",
       "      <td>trip-153671042288605164</td>\n",
       "      <td>399.0</td>\n",
       "      <td>141.0</td>\n",
       "    </tr>\n",
       "    <tr>\n",
       "      <th>2</th>\n",
       "      <td>trip-153671043369099517</td>\n",
       "      <td>112225.0</td>\n",
       "      <td>3308.0</td>\n",
       "    </tr>\n",
       "    <tr>\n",
       "      <th>3</th>\n",
       "      <td>trip-153671046011330457</td>\n",
       "      <td>82.0</td>\n",
       "      <td>59.0</td>\n",
       "    </tr>\n",
       "    <tr>\n",
       "      <th>4</th>\n",
       "      <td>trip-153671052974046625</td>\n",
       "      <td>556.0</td>\n",
       "      <td>340.0</td>\n",
       "    </tr>\n",
       "  </tbody>\n",
       "</table>\n",
       "</div>"
      ],
      "text/plain": [
       "                 trip_uuid  actual_time  segment_actual_time\n",
       "0  trip-153671041653548748      15682.0               1548.0\n",
       "1  trip-153671042288605164        399.0                141.0\n",
       "2  trip-153671043369099517     112225.0               3308.0\n",
       "3  trip-153671046011330457         82.0                 59.0\n",
       "4  trip-153671052974046625        556.0                340.0"
      ]
     },
     "execution_count": 441,
     "metadata": {},
     "output_type": "execute_result"
    }
   ],
   "source": [
    "data_temp=data.groupby(\"trip_uuid\").agg(agg_dict).reset_index()\n",
    "data_temp.head()"
   ]
  },
  {
   "cell_type": "code",
   "execution_count": 442,
   "id": "1283c62c",
   "metadata": {},
   "outputs": [
    {
     "data": {
      "text/plain": [
       "<Axes: xlabel='actual_time', ylabel='Density'>"
      ]
     },
     "execution_count": 442,
     "metadata": {},
     "output_type": "execute_result"
    },
    {
     "data": {
      "image/png": "[encoded data removed]",
      "text/plain": [
       "<Figure size 640x480 with 1 Axes>"
      ]
     },
     "metadata": {},
     "output_type": "display_data"
    }
   ],
   "source": [
    "sns.distplot(data_temp[\"actual_time\"])"
   ]
  },
  {
   "cell_type": "code",
   "execution_count": null,
   "id": "334789d7",
   "metadata": {},
   "outputs": [],
   "source": []
  },
  {
   "cell_type": "code",
   "execution_count": 443,
   "id": "4a309ca5",
   "metadata": {},
   "outputs": [
    {
     "data": {
      "text/plain": [
       "<Axes: xlabel='segment_actual_time', ylabel='Density'>"
      ]
     },
     "execution_count": 443,
     "metadata": {},
     "output_type": "execute_result"
    },
    {
     "data": {
      "image/png": "[encoded data removed]",
      "text/plain": [
       "<Figure size 640x480 with 1 Axes>"
      ]
     },
     "metadata": {},
     "output_type": "display_data"
    }
   ],
   "source": [
    "sns.distplot(data_temp['segment_actual_time'])"
   ]
  },
  {
   "cell_type": "code",
   "execution_count": 444,
   "id": "f166d2f3",
   "metadata": {},
   "outputs": [
    {
     "data": {
      "text/plain": [
       "KstestResult(statistic=0.24622972588447306, pvalue=5.505882303222428e-282, statistic_location=364.0, statistic_sign=-1)"
      ]
     },
     "execution_count": 444,
     "metadata": {},
     "output_type": "execute_result"
    }
   ],
   "source": [
    "#we will perform kstest to check distribution\n",
    "stats.kstest(data_temp['actual_time'],data_temp['segment_actual_time'])"
   ]
  },
  {
   "cell_type": "code",
   "execution_count": 445,
   "id": "d959f0c6",
   "metadata": {},
   "outputs": [
    {
     "name": "stdout",
     "output_type": "stream",
     "text": [
      "Failed to Reject\n"
     ]
    }
   ],
   "source": [
    "null(5.505)"
   ]
  },
  {
   "cell_type": "markdown",
   "id": "c029bdbd",
   "metadata": {},
   "source": [
    "Since failed to reject null hypothesis actual_time and segemnt actual time have different distribution\n",
    "3.5)Do hypothesis testing/ visual analysis between osrm distance aggregated value and segment osrm distance aggregated value (aggregated values are the values you’ll get after merging the rows on the basis of trip_uuid)"
   ]
  },
  {
   "cell_type": "code",
   "execution_count": 446,
   "id": "e3a5f9bc",
   "metadata": {},
   "outputs": [
    {
     "data": {
      "text/html": [
       "<div>\n",
       "<style scoped>\n",
       "    .dataframe tbody tr th:only-of-type {\n",
       "        vertical-align: middle;\n",
       "    }\n",
       "\n",
       "    .dataframe tbody tr th {\n",
       "        vertical-align: top;\n",
       "    }\n",
       "\n",
       "    .dataframe thead th {\n",
       "        text-align: right;\n",
       "    }\n",
       "</style>\n",
       "<table border=\"1\" class=\"dataframe\">\n",
       "  <thead>\n",
       "    <tr style=\"text-align: right;\">\n",
       "      <th></th>\n",
       "      <th>trip_uuid</th>\n",
       "      <th>osrm_distance</th>\n",
       "      <th>segment_osrm_distance</th>\n",
       "    </tr>\n",
       "  </thead>\n",
       "  <tbody>\n",
       "    <tr>\n",
       "      <th>0</th>\n",
       "      <td>trip-153671041653548748</td>\n",
       "      <td>10577.7647</td>\n",
       "      <td>1320.4733</td>\n",
       "    </tr>\n",
       "    <tr>\n",
       "      <th>1</th>\n",
       "      <td>trip-153671042288605164</td>\n",
       "      <td>269.4308</td>\n",
       "      <td>84.1894</td>\n",
       "    </tr>\n",
       "    <tr>\n",
       "      <th>2</th>\n",
       "      <td>trip-153671043369099517</td>\n",
       "      <td>89447.2488</td>\n",
       "      <td>2545.2678</td>\n",
       "    </tr>\n",
       "    <tr>\n",
       "      <th>3</th>\n",
       "      <td>trip-153671046011330457</td>\n",
       "      <td>31.6475</td>\n",
       "      <td>19.8766</td>\n",
       "    </tr>\n",
       "    <tr>\n",
       "      <th>4</th>\n",
       "      <td>trip-153671052974046625</td>\n",
       "      <td>266.2914</td>\n",
       "      <td>146.7919</td>\n",
       "    </tr>\n",
       "  </tbody>\n",
       "</table>\n",
       "</div>"
      ],
      "text/plain": [
       "                 trip_uuid  osrm_distance  segment_osrm_distance\n",
       "0  trip-153671041653548748     10577.7647              1320.4733\n",
       "1  trip-153671042288605164       269.4308                84.1894\n",
       "2  trip-153671043369099517     89447.2488              2545.2678\n",
       "3  trip-153671046011330457        31.6475                19.8766\n",
       "4  trip-153671052974046625       266.2914               146.7919"
      ]
     },
     "execution_count": 446,
     "metadata": {},
     "output_type": "execute_result"
    }
   ],
   "source": [
    "agg_dict={'osrm_distance' : 'sum',\n",
    "          'segment_osrm_distance':'sum'\n",
    "         }\n",
    "data_temp=data.groupby(\"trip_uuid\").agg(agg_dict).reset_index()\n",
    "data_temp.head()"
   ]
  },
  {
   "cell_type": "code",
   "execution_count": 447,
   "id": "c5120aea",
   "metadata": {},
   "outputs": [
    {
     "data": {
      "text/plain": [
       "<Axes: xlabel='osrm_distance', ylabel='Density'>"
      ]
     },
     "execution_count": 447,
     "metadata": {},
     "output_type": "execute_result"
    },
    {
     "data": {
      "image/png": "[encoded data removed]",
      "text/plain": [
       "<Figure size 640x480 with 1 Axes>"
      ]
     },
     "metadata": {},
     "output_type": "display_data"
    }
   ],
   "source": [
    "sns.distplot(data_temp[\"osrm_distance\"])"
   ]
  },
  {
   "cell_type": "code",
   "execution_count": 448,
   "id": "c1f07ae1",
   "metadata": {},
   "outputs": [
    {
     "data": {
      "text/plain": [
       "<Axes: xlabel='segment_osrm_distance', ylabel='Density'>"
      ]
     },
     "execution_count": 448,
     "metadata": {},
     "output_type": "execute_result"
    },
    {
     "data": {
      "image/png": "[encoded data removed]",
      "text/plain": [
       "<Figure size 640x480 with 1 Axes>"
      ]
     },
     "metadata": {},
     "output_type": "display_data"
    }
   ],
   "source": [
    "sns.distplot(data_temp[\"segment_osrm_distance\"])"
   ]
  },
  {
   "cell_type": "code",
   "execution_count": 449,
   "id": "53ca6da0",
   "metadata": {},
   "outputs": [
    {
     "data": {
      "text/plain": [
       "KstestResult(statistic=0.25324860096746654, pvalue=1.648372424175136e-298, statistic_location=57.490899999999996, statistic_sign=1)"
      ]
     },
     "execution_count": 449,
     "metadata": {},
     "output_type": "execute_result"
    }
   ],
   "source": [
    "#lets check if ditribution is common\n",
    "stats.kstest(data_temp[\"segment_osrm_distance\"],data_temp[\"osrm_distance\"])"
   ]
  },
  {
   "cell_type": "code",
   "execution_count": 450,
   "id": "34ff535a",
   "metadata": {},
   "outputs": [
    {
     "name": "stdout",
     "output_type": "stream",
     "text": [
      "Failed to Reject\n"
     ]
    }
   ],
   "source": [
    "null(1.64)"
   ]
  },
  {
   "cell_type": "markdown",
   "id": "dfc438ba",
   "metadata": {},
   "source": [
    "Since we failed to reject null hypothesis data_temp[\"segment_osrm_distance\"] ,data_temp[\"osrm_distance\"] have different distribution <br>\n",
    "3.6)Do hypothesis testing/ visual analysis between osrm time aggregated value and segment osrm time aggregated value (aggregated values are the values you’ll get after merging the rows on the basis of trip_uuid)"
   ]
  },
  {
   "cell_type": "code",
   "execution_count": 451,
   "id": "cdb97714",
   "metadata": {},
   "outputs": [
    {
     "data": {
      "text/html": [
       "<div>\n",
       "<style scoped>\n",
       "    .dataframe tbody tr th:only-of-type {\n",
       "        vertical-align: middle;\n",
       "    }\n",
       "\n",
       "    .dataframe tbody tr th {\n",
       "        vertical-align: top;\n",
       "    }\n",
       "\n",
       "    .dataframe thead th {\n",
       "        text-align: right;\n",
       "    }\n",
       "</style>\n",
       "<table border=\"1\" class=\"dataframe\">\n",
       "  <thead>\n",
       "    <tr style=\"text-align: right;\">\n",
       "      <th></th>\n",
       "      <th>trip_uuid</th>\n",
       "      <th>osrm_time</th>\n",
       "      <th>segment_osrm_time</th>\n",
       "    </tr>\n",
       "  </thead>\n",
       "  <tbody>\n",
       "    <tr>\n",
       "      <th>0</th>\n",
       "      <td>trip-153671041653548748</td>\n",
       "      <td>7787.0</td>\n",
       "      <td>1008.0</td>\n",
       "    </tr>\n",
       "    <tr>\n",
       "      <th>1</th>\n",
       "      <td>trip-153671042288605164</td>\n",
       "      <td>210.0</td>\n",
       "      <td>65.0</td>\n",
       "    </tr>\n",
       "    <tr>\n",
       "      <th>2</th>\n",
       "      <td>trip-153671043369099517</td>\n",
       "      <td>65768.0</td>\n",
       "      <td>1941.0</td>\n",
       "    </tr>\n",
       "    <tr>\n",
       "      <th>3</th>\n",
       "      <td>trip-153671046011330457</td>\n",
       "      <td>24.0</td>\n",
       "      <td>16.0</td>\n",
       "    </tr>\n",
       "    <tr>\n",
       "      <th>4</th>\n",
       "      <td>trip-153671052974046625</td>\n",
       "      <td>207.0</td>\n",
       "      <td>115.0</td>\n",
       "    </tr>\n",
       "  </tbody>\n",
       "</table>\n",
       "</div>"
      ],
      "text/plain": [
       "                 trip_uuid  osrm_time  segment_osrm_time\n",
       "0  trip-153671041653548748     7787.0             1008.0\n",
       "1  trip-153671042288605164      210.0               65.0\n",
       "2  trip-153671043369099517    65768.0             1941.0\n",
       "3  trip-153671046011330457       24.0               16.0\n",
       "4  trip-153671052974046625      207.0              115.0"
      ]
     },
     "execution_count": 451,
     "metadata": {},
     "output_type": "execute_result"
    }
   ],
   "source": [
    "agg_dict={'osrm_time' : 'sum',\n",
    "          'segment_osrm_time':'sum'\n",
    "         }\n",
    "data_temp=data.groupby(\"trip_uuid\").agg(agg_dict).reset_index()\n",
    "data_temp.head()"
   ]
  },
  {
   "cell_type": "code",
   "execution_count": 452,
   "id": "c3603008",
   "metadata": {},
   "outputs": [
    {
     "data": {
      "text/plain": [
       "<Axes: xlabel='osrm_time', ylabel='Density'>"
      ]
     },
     "execution_count": 452,
     "metadata": {},
     "output_type": "execute_result"
    },
    {
     "data": {
      "image/png": "[encoded data removed]",
      "text/plain": [
       "<Figure size 640x480 with 1 Axes>"
      ]
     },
     "metadata": {},
     "output_type": "display_data"
    }
   ],
   "source": [
    "sns.distplot(data_temp[\"osrm_time\"])"
   ]
  },
  {
   "cell_type": "code",
   "execution_count": 453,
   "id": "bca4bb9a",
   "metadata": {},
   "outputs": [
    {
     "data": {
      "text/plain": [
       "<Axes: xlabel='segment_osrm_time', ylabel='Density'>"
      ]
     },
     "execution_count": 453,
     "metadata": {},
     "output_type": "execute_result"
    },
    {
     "data": {
      "image/png": "[encoded data removed]",
      "text/plain": [
       "<Figure size 640x480 with 1 Axes>"
      ]
     },
     "metadata": {},
     "output_type": "display_data"
    }
   ],
   "source": [
    "sns.distplot(data_temp[\"segment_osrm_time\"])"
   ]
  },
  {
   "cell_type": "code",
   "execution_count": 454,
   "id": "b1d38264",
   "metadata": {},
   "outputs": [
    {
     "data": {
      "text/plain": [
       "KstestResult(statistic=0.2448069809352177, pvalue=1.0723285810790806e-278, statistic_location=196.0, statistic_sign=-1)"
      ]
     },
     "execution_count": 454,
     "metadata": {},
     "output_type": "execute_result"
    }
   ],
   "source": [
    "stats.kstest(data_temp[\"osrm_time\"],data_temp[\"segment_osrm_time\"])"
   ]
  },
  {
   "cell_type": "code",
   "execution_count": 455,
   "id": "df82f6fa",
   "metadata": {},
   "outputs": [
    {
     "name": "stdout",
     "output_type": "stream",
     "text": [
      "Failed to Reject\n"
     ]
    }
   ],
   "source": [
    "null(1.07)"
   ]
  },
  {
   "cell_type": "markdown",
   "id": "2f4d454d",
   "metadata": {},
   "source": [
    "since Failed to reject null hypothesis we can say both distributions are different.\n"
   ]
  },
  {
   "cell_type": "code",
   "execution_count": 456,
   "id": "378a276c",
   "metadata": {},
   "outputs": [
    {
     "data": {
      "text/plain": [
       "<Axes: >"
      ]
     },
     "execution_count": 456,
     "metadata": {},
     "output_type": "execute_result"
    },
    {
     "data": {
      "image/png": "[encoded data removed]",
      "text/plain": [
       "<Figure size 640x480 with 2 Axes>"
      ]
     },
     "metadata": {},
     "output_type": "display_data"
    }
   ],
   "source": [
    "#lets perform heatmap analysis\n",
    "sns.heatmap(data.corr())"
   ]
  },
  {
   "cell_type": "code",
   "execution_count": 457,
   "id": "502534ad",
   "metadata": {},
   "outputs": [],
   "source": [
    "#we conclue that columns are highly corelated  actual time and osrm time are corelated "
   ]
  },
  {
   "cell_type": "code",
   "execution_count": 458,
   "id": "a7316541",
   "metadata": {
    "scrolled": true
   },
   "outputs": [
    {
     "name": "stdout",
     "output_type": "stream",
     "text": [
      "<class 'pandas.core.frame.DataFrame'>\n",
      "Int64Index: 103654 entries, 0 to 143473\n",
      "Data columns (total 33 columns):\n",
      " #   Column                          Non-Null Count   Dtype         \n",
      "---  ------                          --------------   -----         \n",
      " 0   data                            103654 non-null  object        \n",
      " 1   trip_creation_time              103654 non-null  datetime64[ns]\n",
      " 2   route_schedule_uuid             103654 non-null  object        \n",
      " 3   route_type                      103654 non-null  object        \n",
      " 4   trip_uuid                       103654 non-null  object        \n",
      " 5   source_center                   103654 non-null  object        \n",
      " 6   source_name                     103654 non-null  object        \n",
      " 7   destination_center              103654 non-null  object        \n",
      " 8   destination_name                103654 non-null  object        \n",
      " 9   od_start_time                   103654 non-null  datetime64[ns]\n",
      " 10  od_end_time                     103654 non-null  datetime64[ns]\n",
      " 11  start_scan_to_end_scan          103654 non-null  float64       \n",
      " 12  actual_distance_to_destination  103654 non-null  float64       \n",
      " 13  actual_time                     103654 non-null  float64       \n",
      " 14  osrm_time                       103654 non-null  float64       \n",
      " 15  osrm_distance                   103654 non-null  float64       \n",
      " 16  segment_actual_time             103654 non-null  float64       \n",
      " 17  segment_osrm_time               103654 non-null  float64       \n",
      " 18  segment_osrm_distance           103654 non-null  float64       \n",
      " 19  source_state                    103654 non-null  object        \n",
      " 20  source_state_center             103654 non-null  object        \n",
      " 21  destination_state               103654 non-null  object        \n",
      " 22  destination_state_center        103654 non-null  object        \n",
      " 23  dst_city                        103654 non-null  object        \n",
      " 24  dst_place                       102024 non-null  object        \n",
      " 25  dst_code                        92633 non-null   object        \n",
      " 26  src_city                        103654 non-null  object        \n",
      " 27  src_place                       102180 non-null  object        \n",
      " 28  src_code                        93113 non-null   object        \n",
      " 29  trip_day                        103654 non-null  int64         \n",
      " 30  trip_month                      103654 non-null  int64         \n",
      " 31  trip_year                       103654 non-null  int64         \n",
      " 32  od_trip_time_hr                 103654 non-null  float64       \n",
      "dtypes: datetime64[ns](3), float64(9), int64(3), object(18)\n",
      "memory usage: 26.9+ MB\n"
     ]
    }
   ],
   "source": [
    "data.info()\n",
    "\n"
   ]
  },
  {
   "cell_type": "code",
   "execution_count": 459,
   "id": "207984c1",
   "metadata": {},
   "outputs": [],
   "source": [
    "to_drop=[\"trip_creation_time\",\"destination_name\",\"source_name\"]"
   ]
  },
  {
   "cell_type": "code",
   "execution_count": 460,
   "id": "35e10c44",
   "metadata": {},
   "outputs": [],
   "source": [
    "data=data.drop(to_drop,axis=1)"
   ]
  },
  {
   "cell_type": "code",
   "execution_count": 461,
   "id": "ca0c1f2e",
   "metadata": {},
   "outputs": [],
   "source": [
    "data=pd.get_dummies(data,columns = [\"route_type\"])"
   ]
  },
  {
   "cell_type": "code",
   "execution_count": 462,
   "id": "0ab7d73c",
   "metadata": {},
   "outputs": [
    {
     "data": {
      "text/html": [
       "<div>\n",
       "<style scoped>\n",
       "    .dataframe tbody tr th:only-of-type {\n",
       "        vertical-align: middle;\n",
       "    }\n",
       "\n",
       "    .dataframe tbody tr th {\n",
       "        vertical-align: top;\n",
       "    }\n",
       "\n",
       "    .dataframe thead th {\n",
       "        text-align: right;\n",
       "    }\n",
       "</style>\n",
       "<table border=\"1\" class=\"dataframe\">\n",
       "  <thead>\n",
       "    <tr style=\"text-align: right;\">\n",
       "      <th></th>\n",
       "      <th>data</th>\n",
       "      <th>route_schedule_uuid</th>\n",
       "      <th>trip_uuid</th>\n",
       "      <th>source_center</th>\n",
       "      <th>destination_center</th>\n",
       "      <th>od_start_time</th>\n",
       "      <th>od_end_time</th>\n",
       "      <th>start_scan_to_end_scan</th>\n",
       "      <th>actual_distance_to_destination</th>\n",
       "      <th>actual_time</th>\n",
       "      <th>osrm_time</th>\n",
       "      <th>osrm_distance</th>\n",
       "      <th>segment_actual_time</th>\n",
       "      <th>segment_osrm_time</th>\n",
       "      <th>segment_osrm_distance</th>\n",
       "      <th>source_state</th>\n",
       "      <th>source_state_center</th>\n",
       "      <th>destination_state</th>\n",
       "      <th>destination_state_center</th>\n",
       "      <th>dst_city</th>\n",
       "      <th>dst_place</th>\n",
       "      <th>dst_code</th>\n",
       "      <th>src_city</th>\n",
       "      <th>src_place</th>\n",
       "      <th>src_code</th>\n",
       "      <th>trip_day</th>\n",
       "      <th>trip_month</th>\n",
       "      <th>trip_year</th>\n",
       "      <th>od_trip_time_hr</th>\n",
       "      <th>route_type_Carting</th>\n",
       "      <th>route_type_FTL</th>\n",
       "    </tr>\n",
       "  </thead>\n",
       "  <tbody>\n",
       "    <tr>\n",
       "      <th>0</th>\n",
       "      <td>training</td>\n",
       "      <td>thanos::sroute:eb7bfc78-b351-4c0e-a951-fa3d5c3...</td>\n",
       "      <td>trip-153741093647649320</td>\n",
       "      <td>IND388121AAA</td>\n",
       "      <td>IND388620AAB</td>\n",
       "      <td>2018-09-20 03:21:32.418600</td>\n",
       "      <td>2018-09-20 04:47:45.236797</td>\n",
       "      <td>86.0</td>\n",
       "      <td>10.435660</td>\n",
       "      <td>14.0</td>\n",
       "      <td>11.0</td>\n",
       "      <td>11.9653</td>\n",
       "      <td>14.0</td>\n",
       "      <td>11.0</td>\n",
       "      <td>11.9653</td>\n",
       "      <td>Gujarat</td>\n",
       "      <td>Anand_VUNagar_DC</td>\n",
       "      <td>Gujarat</td>\n",
       "      <td>Khambhat_MotvdDPP_D</td>\n",
       "      <td>Khambhat</td>\n",
       "      <td>MotvdDPP</td>\n",
       "      <td>D</td>\n",
       "      <td>Anand</td>\n",
       "      <td>VUNagar</td>\n",
       "      <td>DC</td>\n",
       "      <td>20</td>\n",
       "      <td>9</td>\n",
       "      <td>2018</td>\n",
       "      <td>86.213637</td>\n",
       "      <td>1</td>\n",
       "      <td>0</td>\n",
       "    </tr>\n",
       "    <tr>\n",
       "      <th>1</th>\n",
       "      <td>training</td>\n",
       "      <td>thanos::sroute:eb7bfc78-b351-4c0e-a951-fa3d5c3...</td>\n",
       "      <td>trip-153741093647649320</td>\n",
       "      <td>IND388121AAA</td>\n",
       "      <td>IND388620AAB</td>\n",
       "      <td>2018-09-20 03:21:32.418600</td>\n",
       "      <td>2018-09-20 04:47:45.236797</td>\n",
       "      <td>86.0</td>\n",
       "      <td>18.936842</td>\n",
       "      <td>24.0</td>\n",
       "      <td>20.0</td>\n",
       "      <td>21.7243</td>\n",
       "      <td>10.0</td>\n",
       "      <td>9.0</td>\n",
       "      <td>9.7590</td>\n",
       "      <td>Gujarat</td>\n",
       "      <td>Anand_VUNagar_DC</td>\n",
       "      <td>Gujarat</td>\n",
       "      <td>Khambhat_MotvdDPP_D</td>\n",
       "      <td>Khambhat</td>\n",
       "      <td>MotvdDPP</td>\n",
       "      <td>D</td>\n",
       "      <td>Anand</td>\n",
       "      <td>VUNagar</td>\n",
       "      <td>DC</td>\n",
       "      <td>20</td>\n",
       "      <td>9</td>\n",
       "      <td>2018</td>\n",
       "      <td>86.213637</td>\n",
       "      <td>1</td>\n",
       "      <td>0</td>\n",
       "    </tr>\n",
       "    <tr>\n",
       "      <th>2</th>\n",
       "      <td>training</td>\n",
       "      <td>thanos::sroute:eb7bfc78-b351-4c0e-a951-fa3d5c3...</td>\n",
       "      <td>trip-153741093647649320</td>\n",
       "      <td>IND388121AAA</td>\n",
       "      <td>IND388620AAB</td>\n",
       "      <td>2018-09-20 03:21:32.418600</td>\n",
       "      <td>2018-09-20 04:47:45.236797</td>\n",
       "      <td>86.0</td>\n",
       "      <td>27.637279</td>\n",
       "      <td>40.0</td>\n",
       "      <td>28.0</td>\n",
       "      <td>32.5395</td>\n",
       "      <td>16.0</td>\n",
       "      <td>7.0</td>\n",
       "      <td>10.8152</td>\n",
       "      <td>Gujarat</td>\n",
       "      <td>Anand_VUNagar_DC</td>\n",
       "      <td>Gujarat</td>\n",
       "      <td>Khambhat_MotvdDPP_D</td>\n",
       "      <td>Khambhat</td>\n",
       "      <td>MotvdDPP</td>\n",
       "      <td>D</td>\n",
       "      <td>Anand</td>\n",
       "      <td>VUNagar</td>\n",
       "      <td>DC</td>\n",
       "      <td>20</td>\n",
       "      <td>9</td>\n",
       "      <td>2018</td>\n",
       "      <td>86.213637</td>\n",
       "      <td>1</td>\n",
       "      <td>0</td>\n",
       "    </tr>\n",
       "    <tr>\n",
       "      <th>3</th>\n",
       "      <td>training</td>\n",
       "      <td>thanos::sroute:eb7bfc78-b351-4c0e-a951-fa3d5c3...</td>\n",
       "      <td>trip-153741093647649320</td>\n",
       "      <td>IND388121AAA</td>\n",
       "      <td>IND388620AAB</td>\n",
       "      <td>2018-09-20 03:21:32.418600</td>\n",
       "      <td>2018-09-20 04:47:45.236797</td>\n",
       "      <td>86.0</td>\n",
       "      <td>36.118028</td>\n",
       "      <td>62.0</td>\n",
       "      <td>40.0</td>\n",
       "      <td>45.5620</td>\n",
       "      <td>21.0</td>\n",
       "      <td>12.0</td>\n",
       "      <td>13.0224</td>\n",
       "      <td>Gujarat</td>\n",
       "      <td>Anand_VUNagar_DC</td>\n",
       "      <td>Gujarat</td>\n",
       "      <td>Khambhat_MotvdDPP_D</td>\n",
       "      <td>Khambhat</td>\n",
       "      <td>MotvdDPP</td>\n",
       "      <td>D</td>\n",
       "      <td>Anand</td>\n",
       "      <td>VUNagar</td>\n",
       "      <td>DC</td>\n",
       "      <td>20</td>\n",
       "      <td>9</td>\n",
       "      <td>2018</td>\n",
       "      <td>86.213637</td>\n",
       "      <td>1</td>\n",
       "      <td>0</td>\n",
       "    </tr>\n",
       "    <tr>\n",
       "      <th>4</th>\n",
       "      <td>training</td>\n",
       "      <td>thanos::sroute:eb7bfc78-b351-4c0e-a951-fa3d5c3...</td>\n",
       "      <td>trip-153741093647649320</td>\n",
       "      <td>IND388121AAA</td>\n",
       "      <td>IND388620AAB</td>\n",
       "      <td>2018-09-20 03:21:32.418600</td>\n",
       "      <td>2018-09-20 04:47:45.236797</td>\n",
       "      <td>86.0</td>\n",
       "      <td>39.386040</td>\n",
       "      <td>68.0</td>\n",
       "      <td>44.0</td>\n",
       "      <td>54.2181</td>\n",
       "      <td>6.0</td>\n",
       "      <td>5.0</td>\n",
       "      <td>3.9153</td>\n",
       "      <td>Gujarat</td>\n",
       "      <td>Anand_VUNagar_DC</td>\n",
       "      <td>Gujarat</td>\n",
       "      <td>Khambhat_MotvdDPP_D</td>\n",
       "      <td>Khambhat</td>\n",
       "      <td>MotvdDPP</td>\n",
       "      <td>D</td>\n",
       "      <td>Anand</td>\n",
       "      <td>VUNagar</td>\n",
       "      <td>DC</td>\n",
       "      <td>20</td>\n",
       "      <td>9</td>\n",
       "      <td>2018</td>\n",
       "      <td>86.213637</td>\n",
       "      <td>1</td>\n",
       "      <td>0</td>\n",
       "    </tr>\n",
       "  </tbody>\n",
       "</table>\n",
       "</div>"
      ],
      "text/plain": [
       "       data                                route_schedule_uuid  \\\n",
       "0  training  thanos::sroute:eb7bfc78-b351-4c0e-a951-fa3d5c3...   \n",
       "1  training  thanos::sroute:eb7bfc78-b351-4c0e-a951-fa3d5c3...   \n",
       "2  training  thanos::sroute:eb7bfc78-b351-4c0e-a951-fa3d5c3...   \n",
       "3  training  thanos::sroute:eb7bfc78-b351-4c0e-a951-fa3d5c3...   \n",
       "4  training  thanos::sroute:eb7bfc78-b351-4c0e-a951-fa3d5c3...   \n",
       "\n",
       "                 trip_uuid source_center destination_center  \\\n",
       "0  trip-153741093647649320  IND388121AAA       IND388620AAB   \n",
       "1  trip-153741093647649320  IND388121AAA       IND388620AAB   \n",
       "2  trip-153741093647649320  IND388121AAA       IND388620AAB   \n",
       "3  trip-153741093647649320  IND388121AAA       IND388620AAB   \n",
       "4  trip-153741093647649320  IND388121AAA       IND388620AAB   \n",
       "\n",
       "               od_start_time                od_end_time  \\\n",
       "0 2018-09-20 03:21:32.418600 2018-09-20 04:47:45.236797   \n",
       "1 2018-09-20 03:21:32.418600 2018-09-20 04:47:45.236797   \n",
       "2 2018-09-20 03:21:32.418600 2018-09-20 04:47:45.236797   \n",
       "3 2018-09-20 03:21:32.418600 2018-09-20 04:47:45.236797   \n",
       "4 2018-09-20 03:21:32.418600 2018-09-20 04:47:45.236797   \n",
       "\n",
       "   start_scan_to_end_scan  actual_distance_to_destination  actual_time  \\\n",
       "0                    86.0                       10.435660         14.0   \n",
       "1                    86.0                       18.936842         24.0   \n",
       "2                    86.0                       27.637279         40.0   \n",
       "3                    86.0                       36.118028         62.0   \n",
       "4                    86.0                       39.386040         68.0   \n",
       "\n",
       "   osrm_time  osrm_distance  segment_actual_time  segment_osrm_time  \\\n",
       "0       11.0        11.9653                 14.0               11.0   \n",
       "1       20.0        21.7243                 10.0                9.0   \n",
       "2       28.0        32.5395                 16.0                7.0   \n",
       "3       40.0        45.5620                 21.0               12.0   \n",
       "4       44.0        54.2181                  6.0                5.0   \n",
       "\n",
       "   segment_osrm_distance source_state source_state_center destination_state  \\\n",
       "0                11.9653      Gujarat   Anand_VUNagar_DC            Gujarat   \n",
       "1                 9.7590      Gujarat   Anand_VUNagar_DC            Gujarat   \n",
       "2                10.8152      Gujarat   Anand_VUNagar_DC            Gujarat   \n",
       "3                13.0224      Gujarat   Anand_VUNagar_DC            Gujarat   \n",
       "4                 3.9153      Gujarat   Anand_VUNagar_DC            Gujarat   \n",
       "\n",
       "  destination_state_center  dst_city dst_place dst_code src_city src_place  \\\n",
       "0     Khambhat_MotvdDPP_D   Khambhat  MotvdDPP       D     Anand   VUNagar   \n",
       "1     Khambhat_MotvdDPP_D   Khambhat  MotvdDPP       D     Anand   VUNagar   \n",
       "2     Khambhat_MotvdDPP_D   Khambhat  MotvdDPP       D     Anand   VUNagar   \n",
       "3     Khambhat_MotvdDPP_D   Khambhat  MotvdDPP       D     Anand   VUNagar   \n",
       "4     Khambhat_MotvdDPP_D   Khambhat  MotvdDPP       D     Anand   VUNagar   \n",
       "\n",
       "  src_code  trip_day  trip_month  trip_year  od_trip_time_hr  \\\n",
       "0      DC         20           9       2018        86.213637   \n",
       "1      DC         20           9       2018        86.213637   \n",
       "2      DC         20           9       2018        86.213637   \n",
       "3      DC         20           9       2018        86.213637   \n",
       "4      DC         20           9       2018        86.213637   \n",
       "\n",
       "   route_type_Carting  route_type_FTL  \n",
       "0                   1               0  \n",
       "1                   1               0  \n",
       "2                   1               0  \n",
       "3                   1               0  \n",
       "4                   1               0  "
      ]
     },
     "execution_count": 462,
     "metadata": {},
     "output_type": "execute_result"
    }
   ],
   "source": [
    "data.head()"
   ]
  },
  {
   "cell_type": "code",
   "execution_count": null,
   "id": "8f31e91d",
   "metadata": {},
   "outputs": [],
   "source": []
  },
  {
   "cell_type": "code",
   "execution_count": null,
   "id": "6e015cee",
   "metadata": {},
   "outputs": [],
   "source": []
  },
  {
   "cell_type": "code",
   "execution_count": null,
   "id": "a206d412",
   "metadata": {},
   "outputs": [],
   "source": []
  },
  {
   "cell_type": "code",
   "execution_count": null,
   "id": "ff74af73",
   "metadata": {},
   "outputs": [],
   "source": []
  },
  {
   "cell_type": "code",
   "execution_count": null,
   "id": "8f89769d",
   "metadata": {},
   "outputs": [],
   "source": []
  },
  {
   "cell_type": "code",
   "execution_count": null,
   "id": "c10ffbf9",
   "metadata": {},
   "outputs": [],
   "source": []
  },
  {
   "cell_type": "code",
   "execution_count": null,
   "id": "62397202",
   "metadata": {},
   "outputs": [],
   "source": []
  },
  {
   "cell_type": "code",
   "execution_count": null,
   "id": "b8e75ec8",
   "metadata": {},
   "outputs": [],
   "source": []
  },
  {
   "cell_type": "code",
   "execution_count": null,
   "id": "e709d7e3",
   "metadata": {},
   "outputs": [],
   "source": []
  },
  {
   "cell_type": "code",
   "execution_count": null,
   "id": "cc725e3c",
   "metadata": {},
   "outputs": [],
   "source": []
  },
  {
   "cell_type": "code",
   "execution_count": null,
   "id": "961f7187",
   "metadata": {},
   "outputs": [],
   "source": []
  },
  {
   "cell_type": "code",
   "execution_count": null,
   "id": "f54a2df9",
   "metadata": {},
   "outputs": [],
   "source": []
  },
  {
   "cell_type": "code",
   "execution_count": null,
   "id": "f21665d9",
   "metadata": {},
   "outputs": [],
   "source": []
  },
  {
   "cell_type": "code",
   "execution_count": null,
   "id": "7d467467",
   "metadata": {},
   "outputs": [],
   "source": []
  },
  {
   "cell_type": "code",
   "execution_count": null,
   "id": "6c01e8d0",
   "metadata": {},
   "outputs": [],
   "source": []
  },
  {
   "cell_type": "code",
   "execution_count": null,
   "id": "e720d3fb",
   "metadata": {},
   "outputs": [],
   "source": []
  },
  {
   "cell_type": "code",
   "execution_count": null,
   "id": "18d586a3",
   "metadata": {},
   "outputs": [],
   "source": []
  },
  {
   "cell_type": "code",
   "execution_count": null,
   "id": "f6909be1",
   "metadata": {},
   "outputs": [],
   "source": []
  },
  {
   "cell_type": "code",
   "execution_count": null,
   "id": "3c42ef68",
   "metadata": {},
   "outputs": [],
   "source": []
  },
  {
   "cell_type": "code",
   "execution_count": null,
   "id": "58604285",
   "metadata": {},
   "outputs": [],
   "source": []
  },
  {
   "cell_type": "code",
   "execution_count": null,
   "id": "ba5b08d2",
   "metadata": {},
   "outputs": [],
   "source": []
  },
  {
   "cell_type": "code",
   "execution_count": null,
   "id": "5cb4d450",
   "metadata": {},
   "outputs": [],
   "source": []
  },
  {
   "cell_type": "code",
   "execution_count": null,
   "id": "5eded466",
   "metadata": {},
   "outputs": [],
   "source": []
  },
  {
   "cell_type": "code",
   "execution_count": null,
   "id": "54634caa",
   "metadata": {},
   "outputs": [],
   "source": []
  },
  {
   "cell_type": "code",
   "execution_count": null,
   "id": "adbf4eda",
   "metadata": {},
   "outputs": [],
   "source": []
  },
  {
   "cell_type": "code",
   "execution_count": null,
   "id": "77ba85c9",
   "metadata": {},
   "outputs": [],
   "source": []
  },
  {
   "cell_type": "code",
   "execution_count": null,
   "id": "20d91afc",
   "metadata": {},
   "outputs": [],
   "source": []
  },
  {
   "cell_type": "code",
   "execution_count": null,
   "id": "79527284",
   "metadata": {},
   "outputs": [],
   "source": []
  },
  {
   "cell_type": "code",
   "execution_count": null,
   "id": "19c09c6f",
   "metadata": {},
   "outputs": [],
   "source": []
  },
  {
   "cell_type": "code",
   "execution_count": null,
   "id": "9f4ea4ec",
   "metadata": {},
   "outputs": [],
   "source": []
  },
  {
   "cell_type": "code",
   "execution_count": null,
   "id": "eb61e5fa",
   "metadata": {},
   "outputs": [],
   "source": []
  },
  {
   "cell_type": "code",
   "execution_count": null,
   "id": "8dc95578",
   "metadata": {},
   "outputs": [],
   "source": []
  },
  {
   "cell_type": "code",
   "execution_count": null,
   "id": "7d814bee",
   "metadata": {},
   "outputs": [],
   "source": []
  },
  {
   "cell_type": "code",
   "execution_count": null,
   "id": "889bc6de",
   "metadata": {},
   "outputs": [],
   "source": []
  },
  {
   "cell_type": "code",
   "execution_count": null,
   "id": "4a54229d",
   "metadata": {},
   "outputs": [],
   "source": []
  },
  {
   "cell_type": "code",
   "execution_count": null,
   "id": "4e839221",
   "metadata": {},
   "outputs": [],
   "source": []
  },
  {
   "cell_type": "code",
   "execution_count": null,
   "id": "72ca9a9d",
   "metadata": {},
   "outputs": [],
   "source": []
  },
  {
   "cell_type": "code",
   "execution_count": null,
   "id": "3c2c9329",
   "metadata": {},
   "outputs": [],
   "source": []
  },
  {
   "cell_type": "code",
   "execution_count": null,
   "id": "a1dcc000",
   "metadata": {},
   "outputs": [],
   "source": []
  },
  {
   "cell_type": "code",
   "execution_count": null,
   "id": "80a9641b",
   "metadata": {},
   "outputs": [],
   "source": []
  },
  {
   "cell_type": "code",
   "execution_count": null,
   "id": "df4019f3",
   "metadata": {},
   "outputs": [],
   "source": []
  },
  {
   "cell_type": "code",
   "execution_count": null,
   "id": "b88ed55e",
   "metadata": {},
   "outputs": [],
   "source": []
  },
  {
   "cell_type": "code",
   "execution_count": null,
   "id": "ca815c6f",
   "metadata": {},
   "outputs": [],
   "source": []
  },
  {
   "cell_type": "code",
   "execution_count": null,
   "id": "0ed1b829",
   "metadata": {},
   "outputs": [],
   "source": []
  },
  {
   "cell_type": "code",
   "execution_count": null,
   "id": "fa1c8404",
   "metadata": {},
   "outputs": [],
   "source": []
  },
  {
   "cell_type": "code",
   "execution_count": null,
   "id": "88001dd0",
   "metadata": {},
   "outputs": [],
   "source": []
  },
  {
   "cell_type": "code",
   "execution_count": null,
   "id": "729e41b1",
   "metadata": {},
   "outputs": [],
   "source": []
  },
  {
   "cell_type": "code",
   "execution_count": null,
   "id": "591eeec3",
   "metadata": {},
   "outputs": [],
   "source": []
  },
  {
   "cell_type": "code",
   "execution_count": null,
   "id": "d9252e12",
   "metadata": {},
   "outputs": [],
   "source": []
  },
  {
   "cell_type": "code",
   "execution_count": null,
   "id": "5125504c",
   "metadata": {},
   "outputs": [],
   "source": []
  },
  {
   "cell_type": "code",
   "execution_count": null,
   "id": "b9106b0c",
   "metadata": {},
   "outputs": [],
   "source": []
  }
 ],
 "metadata": {
  "kernelspec": {
   "display_name": "Python 3 (ipykernel)",
   "language": "python",
   "name": "python3"
  },
  "language_info": {
   "codemirror_mode": {
    "name": "ipython",
    "version": 3
   },
   "file_extension": ".py",
   "mimetype": "text/x-python",
   "name": "python",
   "nbconvert_exporter": "python",
   "pygments_lexer": "ipython3",
   "version": "3.9.16"
  }
 },
 "nbformat": 4,
 "nbformat_minor": 5
}
